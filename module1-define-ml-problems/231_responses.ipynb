{
  "nbformat": 4,
  "nbformat_minor": 0,
  "metadata": {
    "kernelspec": {
      "display_name": "Python 3",
      "language": "python",
      "name": "python3"
    },
    "language_info": {
      "codemirror_mode": {
        "name": "ipython",
        "version": 3
      },
      "file_extension": ".py",
      "mimetype": "text/x-python",
      "name": "python",
      "nbconvert_exporter": "python",
      "pygments_lexer": "ipython3",
      "version": "3.7.6"
    },
    "colab": {
      "name": "LS_DS_231_reference.ipynb",
      "provenance": [],
      "collapsed_sections": [
        "3ypCnhIpFj50"
      ],
      "include_colab_link": true
    }
  },
  "cells": [
    {
      "cell_type": "markdown",
      "metadata": {
        "id": "view-in-github",
        "colab_type": "text"
      },
      "source": [
        "<a href=\"https://colab.research.google.com/github/austinlasseter/DS-Unit-2-Applied-Modeling/blob/master/module1-define-ml-problems/231_responses.ipynb\" target=\"_parent\"><img src=\"https://colab.research.google.com/assets/colab-badge.svg\" alt=\"Open In Colab\"/></a>"
      ]
    },
    {
      "cell_type": "markdown",
      "metadata": {
        "id": "oZLwGPXvFj4j"
      },
      "source": [
        "\n",
        "Lambda School Data Science\n",
        "\n",
        "*Unit 2, Sprint 3, Module 1*\n",
        "\n",
        "---\n",
        "\n"
      ]
    },
    {
      "cell_type": "markdown",
      "metadata": {
        "id": "Cxr62159Fj4m"
      },
      "source": [
        "# Define ML problems\n",
        "- Choose a target to predict, and check its distribution\n",
        "- Avoid leakage of information from test to train or from target to features\n",
        "- Choose an appropriate evaluation metric\n"
      ]
    },
    {
      "cell_type": "markdown",
      "metadata": {
        "id": "Lg34GJc3Fj4n"
      },
      "source": [
        "### Setup\n"
      ]
    },
    {
      "cell_type": "code",
      "metadata": {
        "id": "OFm2nrcLFj4n"
      },
      "source": [
        "%%capture\n",
        "import sys\n",
        "\n",
        "# If you're on Colab:\n",
        "if 'google.colab' in sys.modules:\n",
        "    DATA_PATH = 'https://raw.githubusercontent.com/LambdaSchool/DS-Unit-2-Applied-Modeling/master/data/'\n",
        "    !pip install category_encoders==2.*\n",
        "\n",
        "# If you're working locally:\n",
        "else:\n",
        "    DATA_PATH = '../data/'"
      ],
      "execution_count": null,
      "outputs": []
    },
    {
      "cell_type": "markdown",
      "metadata": {
        "id": "by8JknfzFj4r"
      },
      "source": [
        "# Choose a target to predict, and check its distribution"
      ]
    },
    {
      "cell_type": "markdown",
      "metadata": {
        "id": "MmVi07CFFj4s"
      },
      "source": [
        "## Overview"
      ]
    },
    {
      "cell_type": "markdown",
      "metadata": {
        "id": "aMqixqlfFj4s"
      },
      "source": [
        "Last sprint, you did a Kaggle Challenge. It’s a great way to practice model validation and other technical skills. But some things are done for you: Like [**defining the problem!**](https://www.linkedin.com/pulse/data-science-taught-universities-here-why-maciej-wasiak/) In today’s module, you’ll begin to practice this objective, with your dataset you’ve chosen for your personal portfolio project.\n",
        "\n",
        "When defining a supervised machine learning problem, one of the first steps is choosing a target to predict."
      ]
    },
    {
      "cell_type": "markdown",
      "metadata": {
        "id": "3Nmzzm2LFj4t"
      },
      "source": [
        "Which column in your tabular dataset will you predict?\n",
        "\n",
        "Is your problem regression or classification? You have options. Sometimes it’s not straightforward, as we'll see below.\n",
        "\n",
        "- Discrete, ordinal, low cardinality target: Can be regression or multi-class classification.\n",
        "- (In)equality comparison: Converts regression or multi-class classification to binary classification.\n",
        "- Predicted probability: Seems to [blur](https://brohrer.github.io/five_questions_data_science_answers.html) the line between classification and regression."
      ]
    },
    {
      "cell_type": "markdown",
      "metadata": {
        "id": "ykTbuqmyFj4u"
      },
      "source": [
        "## Follow Along"
      ]
    },
    {
      "cell_type": "markdown",
      "metadata": {
        "id": "yaeQNZrUFj4v"
      },
      "source": [
        "Let's reuse the [Burrito reviews dataset.](https://nbviewer.jupyter.org/github/LambdaSchool/DS-Unit-2-Linear-Models/blob/master/module4-logistic-regression/LS_DS_214_assignment.ipynb) 🌯\n"
      ]
    },
    {
      "cell_type": "code",
      "metadata": {
        "lines_to_next_cell": 2,
        "id": "knyV0le3Fj4w"
      },
      "source": [
        "import pandas as pd\n",
        "pd.options.display.max_columns = None\n",
        "df = pd.read_csv(DATA_PATH+'burritos/burritos.csv')"
      ],
      "execution_count": null,
      "outputs": []
    },
    {
      "cell_type": "code",
      "metadata": {
        "id": "7WupyT4VsYLZ",
        "outputId": "1977d7c1-e33a-4bba-9176-44e601dd25a3",
        "colab": {
          "base_uri": "https://localhost:8080/",
          "height": 34
        }
      },
      "source": [
        "6 * 7"
      ],
      "execution_count": null,
      "outputs": [
        {
          "output_type": "execute_result",
          "data": {
            "text/plain": [
              "42"
            ]
          },
          "metadata": {
            "tags": []
          },
          "execution_count": 1
        }
      ]
    },
    {
      "cell_type": "code",
      "metadata": {
        "id": "s6EAKXCfsb9E",
        "outputId": "508899cd-f715-4ecc-ff5d-cdd2e5b1d0b6",
        "colab": {
          "base_uri": "https://localhost:8080/",
          "height": 34
        }
      },
      "source": [
        "print('Hello World!')"
      ],
      "execution_count": null,
      "outputs": [
        {
          "output_type": "stream",
          "text": [
            "Hello World!\n"
          ],
          "name": "stdout"
        }
      ]
    },
    {
      "cell_type": "markdown",
      "metadata": {
        "id": "h-8izBKWFj4y"
      },
      "source": [
        "### Choose your target \n",
        "\n",
        "Which column in your tabular dataset will you predict?\n"
      ]
    },
    {
      "cell_type": "code",
      "metadata": {
        "lines_to_next_cell": 2,
        "id": "rjHm44ZAFj4z",
        "outputId": "b23cc465-18b8-40de-c725-c90f36125e7e"
      },
      "source": [
        "# What are the columns?\n",
        "df.head()"
      ],
      "execution_count": null,
      "outputs": [
        {
          "output_type": "execute_result",
          "data": {
            "text/html": [
              "<div>\n",
              "<style scoped>\n",
              "    .dataframe tbody tr th:only-of-type {\n",
              "        vertical-align: middle;\n",
              "    }\n",
              "\n",
              "    .dataframe tbody tr th {\n",
              "        vertical-align: top;\n",
              "    }\n",
              "\n",
              "    .dataframe thead th {\n",
              "        text-align: right;\n",
              "    }\n",
              "</style>\n",
              "<table border=\"1\" class=\"dataframe\">\n",
              "  <thead>\n",
              "    <tr style=\"text-align: right;\">\n",
              "      <th></th>\n",
              "      <th>Location</th>\n",
              "      <th>Burrito</th>\n",
              "      <th>Date</th>\n",
              "      <th>Neighborhood</th>\n",
              "      <th>Address</th>\n",
              "      <th>URL</th>\n",
              "      <th>Yelp</th>\n",
              "      <th>Google</th>\n",
              "      <th>Chips</th>\n",
              "      <th>Cost</th>\n",
              "      <th>Hunger</th>\n",
              "      <th>Mass (g)</th>\n",
              "      <th>Density (g/mL)</th>\n",
              "      <th>Length</th>\n",
              "      <th>Circum</th>\n",
              "      <th>Volume</th>\n",
              "      <th>Tortilla</th>\n",
              "      <th>Temp</th>\n",
              "      <th>Meat</th>\n",
              "      <th>Fillings</th>\n",
              "      <th>Meat:filling</th>\n",
              "      <th>Uniformity</th>\n",
              "      <th>Salsa</th>\n",
              "      <th>Synergy</th>\n",
              "      <th>Wrap</th>\n",
              "      <th>overall</th>\n",
              "      <th>Rec</th>\n",
              "      <th>Reviewer</th>\n",
              "      <th>Notes</th>\n",
              "      <th>Unreliable</th>\n",
              "      <th>NonSD</th>\n",
              "      <th>Beef</th>\n",
              "      <th>Pico</th>\n",
              "      <th>Guac</th>\n",
              "      <th>Cheese</th>\n",
              "      <th>Fries</th>\n",
              "      <th>Sour cream</th>\n",
              "      <th>Pork</th>\n",
              "      <th>Chicken</th>\n",
              "      <th>Shrimp</th>\n",
              "      <th>Fish</th>\n",
              "      <th>Rice</th>\n",
              "      <th>Beans</th>\n",
              "      <th>Lettuce</th>\n",
              "      <th>Tomato</th>\n",
              "      <th>Bell peper</th>\n",
              "      <th>Carrots</th>\n",
              "      <th>Cabbage</th>\n",
              "      <th>Sauce</th>\n",
              "      <th>Salsa.1</th>\n",
              "      <th>Cilantro</th>\n",
              "      <th>Onion</th>\n",
              "      <th>Taquito</th>\n",
              "      <th>Pineapple</th>\n",
              "      <th>Ham</th>\n",
              "      <th>Chile relleno</th>\n",
              "      <th>Nopales</th>\n",
              "      <th>Lobster</th>\n",
              "      <th>Queso</th>\n",
              "      <th>Egg</th>\n",
              "      <th>Mushroom</th>\n",
              "      <th>Bacon</th>\n",
              "      <th>Sushi</th>\n",
              "      <th>Avocado</th>\n",
              "      <th>Corn</th>\n",
              "      <th>Zucchini</th>\n",
              "    </tr>\n",
              "  </thead>\n",
              "  <tbody>\n",
              "    <tr>\n",
              "      <th>0</th>\n",
              "      <td>Donato's taco shop</td>\n",
              "      <td>California</td>\n",
              "      <td>1/18/2016</td>\n",
              "      <td>Miramar</td>\n",
              "      <td>6780 Miramar Rd</td>\n",
              "      <td>http://donatostacoshop.net/</td>\n",
              "      <td>3.5</td>\n",
              "      <td>4.2</td>\n",
              "      <td>NaN</td>\n",
              "      <td>6.49</td>\n",
              "      <td>3.0</td>\n",
              "      <td>NaN</td>\n",
              "      <td>NaN</td>\n",
              "      <td>NaN</td>\n",
              "      <td>NaN</td>\n",
              "      <td>NaN</td>\n",
              "      <td>3.0</td>\n",
              "      <td>5.0</td>\n",
              "      <td>3.0</td>\n",
              "      <td>3.5</td>\n",
              "      <td>4.0</td>\n",
              "      <td>4.0</td>\n",
              "      <td>4.0</td>\n",
              "      <td>4.0</td>\n",
              "      <td>4.0</td>\n",
              "      <td>3.80</td>\n",
              "      <td>NaN</td>\n",
              "      <td>Scott</td>\n",
              "      <td>good fries: 4/5</td>\n",
              "      <td>NaN</td>\n",
              "      <td>NaN</td>\n",
              "      <td>x</td>\n",
              "      <td>x</td>\n",
              "      <td>x</td>\n",
              "      <td>x</td>\n",
              "      <td>x</td>\n",
              "      <td>NaN</td>\n",
              "      <td>NaN</td>\n",
              "      <td>NaN</td>\n",
              "      <td>NaN</td>\n",
              "      <td>NaN</td>\n",
              "      <td>NaN</td>\n",
              "      <td>NaN</td>\n",
              "      <td>NaN</td>\n",
              "      <td>NaN</td>\n",
              "      <td>NaN</td>\n",
              "      <td>NaN</td>\n",
              "      <td>NaN</td>\n",
              "      <td>NaN</td>\n",
              "      <td>NaN</td>\n",
              "      <td>NaN</td>\n",
              "      <td>NaN</td>\n",
              "      <td>NaN</td>\n",
              "      <td>NaN</td>\n",
              "      <td>NaN</td>\n",
              "      <td>NaN</td>\n",
              "      <td>NaN</td>\n",
              "      <td>NaN</td>\n",
              "      <td>NaN</td>\n",
              "      <td>NaN</td>\n",
              "      <td>NaN</td>\n",
              "      <td>NaN</td>\n",
              "      <td>NaN</td>\n",
              "      <td>NaN</td>\n",
              "      <td>NaN</td>\n",
              "      <td>NaN</td>\n",
              "    </tr>\n",
              "    <tr>\n",
              "      <th>1</th>\n",
              "      <td>Oscar's Mexican food</td>\n",
              "      <td>California</td>\n",
              "      <td>1/24/2016</td>\n",
              "      <td>San Marcos</td>\n",
              "      <td>225 S Rancho Santa Fe Rd</td>\n",
              "      <td>http://www.yelp.com/biz/oscars-mexican-food-sa...</td>\n",
              "      <td>3.5</td>\n",
              "      <td>3.3</td>\n",
              "      <td>NaN</td>\n",
              "      <td>5.45</td>\n",
              "      <td>3.5</td>\n",
              "      <td>NaN</td>\n",
              "      <td>NaN</td>\n",
              "      <td>NaN</td>\n",
              "      <td>NaN</td>\n",
              "      <td>NaN</td>\n",
              "      <td>2.0</td>\n",
              "      <td>3.5</td>\n",
              "      <td>2.5</td>\n",
              "      <td>2.5</td>\n",
              "      <td>2.0</td>\n",
              "      <td>4.0</td>\n",
              "      <td>3.5</td>\n",
              "      <td>2.5</td>\n",
              "      <td>5.0</td>\n",
              "      <td>3.00</td>\n",
              "      <td>NaN</td>\n",
              "      <td>Scott</td>\n",
              "      <td>Fries: 3/5; too little meat</td>\n",
              "      <td>NaN</td>\n",
              "      <td>NaN</td>\n",
              "      <td>x</td>\n",
              "      <td>x</td>\n",
              "      <td>x</td>\n",
              "      <td>x</td>\n",
              "      <td>x</td>\n",
              "      <td>NaN</td>\n",
              "      <td>NaN</td>\n",
              "      <td>NaN</td>\n",
              "      <td>NaN</td>\n",
              "      <td>NaN</td>\n",
              "      <td>NaN</td>\n",
              "      <td>NaN</td>\n",
              "      <td>NaN</td>\n",
              "      <td>NaN</td>\n",
              "      <td>NaN</td>\n",
              "      <td>NaN</td>\n",
              "      <td>NaN</td>\n",
              "      <td>NaN</td>\n",
              "      <td>NaN</td>\n",
              "      <td>NaN</td>\n",
              "      <td>NaN</td>\n",
              "      <td>NaN</td>\n",
              "      <td>NaN</td>\n",
              "      <td>NaN</td>\n",
              "      <td>NaN</td>\n",
              "      <td>NaN</td>\n",
              "      <td>NaN</td>\n",
              "      <td>NaN</td>\n",
              "      <td>NaN</td>\n",
              "      <td>NaN</td>\n",
              "      <td>NaN</td>\n",
              "      <td>NaN</td>\n",
              "      <td>NaN</td>\n",
              "      <td>NaN</td>\n",
              "      <td>NaN</td>\n",
              "    </tr>\n",
              "    <tr>\n",
              "      <th>2</th>\n",
              "      <td>Oscar's Mexican food</td>\n",
              "      <td>Carnitas</td>\n",
              "      <td>1/24/2016</td>\n",
              "      <td>NaN</td>\n",
              "      <td>NaN</td>\n",
              "      <td>NaN</td>\n",
              "      <td>NaN</td>\n",
              "      <td>NaN</td>\n",
              "      <td>NaN</td>\n",
              "      <td>4.85</td>\n",
              "      <td>1.5</td>\n",
              "      <td>NaN</td>\n",
              "      <td>NaN</td>\n",
              "      <td>NaN</td>\n",
              "      <td>NaN</td>\n",
              "      <td>NaN</td>\n",
              "      <td>3.0</td>\n",
              "      <td>2.0</td>\n",
              "      <td>2.5</td>\n",
              "      <td>3.0</td>\n",
              "      <td>4.5</td>\n",
              "      <td>4.0</td>\n",
              "      <td>3.0</td>\n",
              "      <td>3.0</td>\n",
              "      <td>5.0</td>\n",
              "      <td>3.00</td>\n",
              "      <td>NaN</td>\n",
              "      <td>Emily</td>\n",
              "      <td>NaN</td>\n",
              "      <td>NaN</td>\n",
              "      <td>NaN</td>\n",
              "      <td>NaN</td>\n",
              "      <td>x</td>\n",
              "      <td>x</td>\n",
              "      <td>NaN</td>\n",
              "      <td>NaN</td>\n",
              "      <td>NaN</td>\n",
              "      <td>x</td>\n",
              "      <td>NaN</td>\n",
              "      <td>NaN</td>\n",
              "      <td>NaN</td>\n",
              "      <td>NaN</td>\n",
              "      <td>NaN</td>\n",
              "      <td>NaN</td>\n",
              "      <td>NaN</td>\n",
              "      <td>NaN</td>\n",
              "      <td>NaN</td>\n",
              "      <td>NaN</td>\n",
              "      <td>NaN</td>\n",
              "      <td>NaN</td>\n",
              "      <td>NaN</td>\n",
              "      <td>NaN</td>\n",
              "      <td>NaN</td>\n",
              "      <td>NaN</td>\n",
              "      <td>NaN</td>\n",
              "      <td>NaN</td>\n",
              "      <td>NaN</td>\n",
              "      <td>NaN</td>\n",
              "      <td>NaN</td>\n",
              "      <td>NaN</td>\n",
              "      <td>NaN</td>\n",
              "      <td>NaN</td>\n",
              "      <td>NaN</td>\n",
              "      <td>NaN</td>\n",
              "      <td>NaN</td>\n",
              "      <td>NaN</td>\n",
              "    </tr>\n",
              "    <tr>\n",
              "      <th>3</th>\n",
              "      <td>Oscar's Mexican food</td>\n",
              "      <td>Carne asada</td>\n",
              "      <td>1/24/2016</td>\n",
              "      <td>NaN</td>\n",
              "      <td>NaN</td>\n",
              "      <td>NaN</td>\n",
              "      <td>NaN</td>\n",
              "      <td>NaN</td>\n",
              "      <td>NaN</td>\n",
              "      <td>5.25</td>\n",
              "      <td>2.0</td>\n",
              "      <td>NaN</td>\n",
              "      <td>NaN</td>\n",
              "      <td>NaN</td>\n",
              "      <td>NaN</td>\n",
              "      <td>NaN</td>\n",
              "      <td>3.0</td>\n",
              "      <td>2.0</td>\n",
              "      <td>3.5</td>\n",
              "      <td>3.0</td>\n",
              "      <td>4.0</td>\n",
              "      <td>5.0</td>\n",
              "      <td>4.0</td>\n",
              "      <td>4.0</td>\n",
              "      <td>5.0</td>\n",
              "      <td>3.75</td>\n",
              "      <td>NaN</td>\n",
              "      <td>Ricardo</td>\n",
              "      <td>Go to average burrito place like Rigoberto's i...</td>\n",
              "      <td>NaN</td>\n",
              "      <td>NaN</td>\n",
              "      <td>x</td>\n",
              "      <td>x</td>\n",
              "      <td>x</td>\n",
              "      <td>NaN</td>\n",
              "      <td>NaN</td>\n",
              "      <td>NaN</td>\n",
              "      <td>NaN</td>\n",
              "      <td>NaN</td>\n",
              "      <td>NaN</td>\n",
              "      <td>NaN</td>\n",
              "      <td>NaN</td>\n",
              "      <td>NaN</td>\n",
              "      <td>NaN</td>\n",
              "      <td>NaN</td>\n",
              "      <td>NaN</td>\n",
              "      <td>NaN</td>\n",
              "      <td>NaN</td>\n",
              "      <td>NaN</td>\n",
              "      <td>NaN</td>\n",
              "      <td>NaN</td>\n",
              "      <td>NaN</td>\n",
              "      <td>NaN</td>\n",
              "      <td>NaN</td>\n",
              "      <td>NaN</td>\n",
              "      <td>NaN</td>\n",
              "      <td>NaN</td>\n",
              "      <td>NaN</td>\n",
              "      <td>NaN</td>\n",
              "      <td>NaN</td>\n",
              "      <td>NaN</td>\n",
              "      <td>NaN</td>\n",
              "      <td>NaN</td>\n",
              "      <td>NaN</td>\n",
              "      <td>NaN</td>\n",
              "      <td>NaN</td>\n",
              "    </tr>\n",
              "    <tr>\n",
              "      <th>4</th>\n",
              "      <td>Pollos Maria</td>\n",
              "      <td>California</td>\n",
              "      <td>1/27/2016</td>\n",
              "      <td>Carlsbad</td>\n",
              "      <td>3055 Harding St</td>\n",
              "      <td>http://pollosmaria.com/</td>\n",
              "      <td>4.0</td>\n",
              "      <td>3.8</td>\n",
              "      <td>x</td>\n",
              "      <td>6.59</td>\n",
              "      <td>4.0</td>\n",
              "      <td>NaN</td>\n",
              "      <td>NaN</td>\n",
              "      <td>NaN</td>\n",
              "      <td>NaN</td>\n",
              "      <td>NaN</td>\n",
              "      <td>4.0</td>\n",
              "      <td>5.0</td>\n",
              "      <td>4.0</td>\n",
              "      <td>3.5</td>\n",
              "      <td>4.5</td>\n",
              "      <td>5.0</td>\n",
              "      <td>2.5</td>\n",
              "      <td>4.5</td>\n",
              "      <td>4.0</td>\n",
              "      <td>4.20</td>\n",
              "      <td>NaN</td>\n",
              "      <td>Scott</td>\n",
              "      <td>NaN</td>\n",
              "      <td>NaN</td>\n",
              "      <td>NaN</td>\n",
              "      <td>x</td>\n",
              "      <td>x</td>\n",
              "      <td>NaN</td>\n",
              "      <td>x</td>\n",
              "      <td>x</td>\n",
              "      <td>NaN</td>\n",
              "      <td>NaN</td>\n",
              "      <td>NaN</td>\n",
              "      <td>NaN</td>\n",
              "      <td>NaN</td>\n",
              "      <td>NaN</td>\n",
              "      <td>NaN</td>\n",
              "      <td>NaN</td>\n",
              "      <td>NaN</td>\n",
              "      <td>NaN</td>\n",
              "      <td>NaN</td>\n",
              "      <td>NaN</td>\n",
              "      <td>NaN</td>\n",
              "      <td>NaN</td>\n",
              "      <td>NaN</td>\n",
              "      <td>NaN</td>\n",
              "      <td>NaN</td>\n",
              "      <td>NaN</td>\n",
              "      <td>NaN</td>\n",
              "      <td>NaN</td>\n",
              "      <td>NaN</td>\n",
              "      <td>NaN</td>\n",
              "      <td>NaN</td>\n",
              "      <td>NaN</td>\n",
              "      <td>NaN</td>\n",
              "      <td>NaN</td>\n",
              "      <td>NaN</td>\n",
              "      <td>NaN</td>\n",
              "      <td>NaN</td>\n",
              "      <td>NaN</td>\n",
              "    </tr>\n",
              "  </tbody>\n",
              "</table>\n",
              "</div>"
            ],
            "text/plain": [
              "               Location      Burrito       Date Neighborhood  \\\n",
              "0    Donato's taco shop  California   1/18/2016      Miramar   \n",
              "1  Oscar's Mexican food  California   1/24/2016   San Marcos   \n",
              "2  Oscar's Mexican food     Carnitas  1/24/2016          NaN   \n",
              "3  Oscar's Mexican food  Carne asada  1/24/2016          NaN   \n",
              "4          Pollos Maria   California  1/27/2016     Carlsbad   \n",
              "\n",
              "                    Address  \\\n",
              "0           6780 Miramar Rd   \n",
              "1  225 S Rancho Santa Fe Rd   \n",
              "2                       NaN   \n",
              "3                       NaN   \n",
              "4           3055 Harding St   \n",
              "\n",
              "                                                 URL  Yelp  Google Chips  \\\n",
              "0                        http://donatostacoshop.net/   3.5     4.2   NaN   \n",
              "1  http://www.yelp.com/biz/oscars-mexican-food-sa...   3.5     3.3   NaN   \n",
              "2                                                NaN   NaN     NaN   NaN   \n",
              "3                                                NaN   NaN     NaN   NaN   \n",
              "4                            http://pollosmaria.com/   4.0     3.8     x   \n",
              "\n",
              "   Cost  Hunger  Mass (g)  Density (g/mL)  Length  Circum  Volume  Tortilla  \\\n",
              "0  6.49     3.0       NaN             NaN     NaN     NaN     NaN       3.0   \n",
              "1  5.45     3.5       NaN             NaN     NaN     NaN     NaN       2.0   \n",
              "2  4.85     1.5       NaN             NaN     NaN     NaN     NaN       3.0   \n",
              "3  5.25     2.0       NaN             NaN     NaN     NaN     NaN       3.0   \n",
              "4  6.59     4.0       NaN             NaN     NaN     NaN     NaN       4.0   \n",
              "\n",
              "   Temp  Meat  Fillings  Meat:filling  Uniformity  Salsa  Synergy  Wrap  \\\n",
              "0   5.0   3.0       3.5           4.0         4.0    4.0      4.0   4.0   \n",
              "1   3.5   2.5       2.5           2.0         4.0    3.5      2.5   5.0   \n",
              "2   2.0   2.5       3.0           4.5         4.0    3.0      3.0   5.0   \n",
              "3   2.0   3.5       3.0           4.0         5.0    4.0      4.0   5.0   \n",
              "4   5.0   4.0       3.5           4.5         5.0    2.5      4.5   4.0   \n",
              "\n",
              "   overall  Rec Reviewer                                              Notes  \\\n",
              "0     3.80  NaN    Scott                                    good fries: 4/5   \n",
              "1     3.00  NaN    Scott                        Fries: 3/5; too little meat   \n",
              "2     3.00  NaN    Emily                                                NaN   \n",
              "3     3.75  NaN  Ricardo  Go to average burrito place like Rigoberto's i...   \n",
              "4     4.20  NaN    Scott                                                NaN   \n",
              "\n",
              "  Unreliable NonSD Beef Pico Guac Cheese Fries Sour cream Pork Chicken Shrimp  \\\n",
              "0        NaN   NaN    x    x    x      x     x        NaN  NaN     NaN    NaN   \n",
              "1        NaN   NaN    x    x    x      x     x        NaN  NaN     NaN    NaN   \n",
              "2        NaN   NaN  NaN    x    x    NaN   NaN        NaN    x     NaN    NaN   \n",
              "3        NaN   NaN    x    x    x    NaN   NaN        NaN  NaN     NaN    NaN   \n",
              "4        NaN   NaN    x    x  NaN      x     x        NaN  NaN     NaN    NaN   \n",
              "\n",
              "  Fish Rice Beans Lettuce Tomato Bell peper Carrots Cabbage Sauce Salsa.1  \\\n",
              "0  NaN  NaN   NaN     NaN    NaN        NaN     NaN     NaN   NaN     NaN   \n",
              "1  NaN  NaN   NaN     NaN    NaN        NaN     NaN     NaN   NaN     NaN   \n",
              "2  NaN  NaN   NaN     NaN    NaN        NaN     NaN     NaN   NaN     NaN   \n",
              "3  NaN  NaN   NaN     NaN    NaN        NaN     NaN     NaN   NaN     NaN   \n",
              "4  NaN  NaN   NaN     NaN    NaN        NaN     NaN     NaN   NaN     NaN   \n",
              "\n",
              "  Cilantro Onion Taquito Pineapple  Ham Chile relleno Nopales Lobster  Queso  \\\n",
              "0      NaN   NaN     NaN       NaN  NaN           NaN     NaN     NaN    NaN   \n",
              "1      NaN   NaN     NaN       NaN  NaN           NaN     NaN     NaN    NaN   \n",
              "2      NaN   NaN     NaN       NaN  NaN           NaN     NaN     NaN    NaN   \n",
              "3      NaN   NaN     NaN       NaN  NaN           NaN     NaN     NaN    NaN   \n",
              "4      NaN   NaN     NaN       NaN  NaN           NaN     NaN     NaN    NaN   \n",
              "\n",
              "   Egg Mushroom Bacon Sushi Avocado Corn Zucchini  \n",
              "0  NaN      NaN   NaN   NaN     NaN  NaN      NaN  \n",
              "1  NaN      NaN   NaN   NaN     NaN  NaN      NaN  \n",
              "2  NaN      NaN   NaN   NaN     NaN  NaN      NaN  \n",
              "3  NaN      NaN   NaN   NaN     NaN  NaN      NaN  \n",
              "4  NaN      NaN   NaN   NaN     NaN  NaN      NaN  "
            ]
          },
          "metadata": {
            "tags": []
          },
          "execution_count": 3
        }
      ]
    },
    {
      "cell_type": "code",
      "metadata": {
        "id": "NzC4afCXFj43",
        "outputId": "886b6259-8c56-42f1-f62f-5b28c41e8dad"
      },
      "source": [
        "# Look at 'overall' column:\n",
        "# It's a star rating from 1 to 5.\n",
        "\n",
        "# If we used this column as the target,\n",
        "# we could define the problem as regression —\n",
        "# or perhaps multi-class classification with 5 classes\n",
        "# (if we ignored/simplified fractions of a star)\n",
        "\n",
        "df['overall'].describe()"
      ],
      "execution_count": null,
      "outputs": [
        {
          "output_type": "execute_result",
          "data": {
            "text/plain": [
              "count    421.000000\n",
              "mean       3.620887\n",
              "std        0.755718\n",
              "min        1.000000\n",
              "25%        3.100000\n",
              "50%        3.800000\n",
              "75%        4.100000\n",
              "max        5.000000\n",
              "Name: overall, dtype: float64"
            ]
          },
          "metadata": {
            "tags": []
          },
          "execution_count": 4
        }
      ]
    },
    {
      "cell_type": "code",
      "metadata": {
        "id": "tcmKrowwFj45"
      },
      "source": [
        "# Or, we can use an inequality comparison, \n",
        "# to convert the problem to binary classification.\n",
        "\n",
        "# For example, let's derive a new, binary target:\n",
        "# We define a 'Great' burrito as having an\n",
        "# overall rating of 4 or higher, on a 5 point scale.\n",
        "# (Drop unrated burritos.)\n",
        "\n",
        "df = df.dropna(subset=['overall'])\n",
        "df['Great'] = df['overall'] >= 4"
      ],
      "execution_count": null,
      "outputs": []
    },
    {
      "cell_type": "markdown",
      "metadata": {
        "id": "DKGiJLyJFj47"
      },
      "source": [
        "### How is your target distributed?\n",
        "\n",
        "For a classification problem, determine: How many classes? Are the classes imbalanced?"
      ]
    },
    {
      "cell_type": "code",
      "metadata": {
        "id": "R80R2c1SFj48",
        "outputId": "e34f31f2-d7b4-4099-955c-354d79a04f53"
      },
      "source": [
        "# There are 2 classes, this is a binary classification problem. \n",
        "y = df['Great']\n",
        "y.nunique()"
      ],
      "execution_count": null,
      "outputs": [
        {
          "output_type": "execute_result",
          "data": {
            "text/plain": [
              "2"
            ]
          },
          "metadata": {
            "tags": []
          },
          "execution_count": 6
        }
      ]
    },
    {
      "cell_type": "code",
      "metadata": {
        "id": "nMCiq_PcFj4-",
        "outputId": "e93ac1dd-d1ba-4760-b773-c5685dc9f91f"
      },
      "source": [
        "# The majority class occurs with 57% frequency, so this is not too imbalanced.\n",
        "y.value_counts(normalize=True)"
      ],
      "execution_count": null,
      "outputs": [
        {
          "output_type": "execute_result",
          "data": {
            "text/plain": [
              "False    0.567696\n",
              "True     0.432304\n",
              "Name: Great, dtype: float64"
            ]
          },
          "metadata": {
            "tags": []
          },
          "execution_count": 7
        }
      ]
    },
    {
      "cell_type": "markdown",
      "metadata": {
        "id": "VJ_1q-pyFj5B"
      },
      "source": [
        "# Avoid leakage of information from test to train or from target to features"
      ]
    },
    {
      "cell_type": "markdown",
      "metadata": {
        "id": "vUbweiQnFj5C"
      },
      "source": [
        "## Overview"
      ]
    },
    {
      "cell_type": "markdown",
      "metadata": {
        "id": "cPzjfLxOFj5C"
      },
      "source": [
        "Overfitting is our enemy in applied machine learning, and leakage is often the cause.\n",
        "\n",
        "> Make sure your training features do not contain data from the “future” (aka time traveling). While this might be easy and obvious in some cases, it can get tricky. … If your test metric becomes really good all of the sudden, ask yourself what you might be doing wrong. Chances are you are time travelling or overfitting in some way. — [Xavier Amatriain](https://www.quora.com/What-are-some-best-practices-for-training-machine-learning-models/answer/Xavier-Amatriain)\n",
        "\n",
        "Choose train, validate, and test sets. Are some observations outliers? Will you exclude them? Will you do a random split or a time-based split? You can (re)read [How (and why) to create a good validation set](https://www.fast.ai/2017/11/13/validation-sets/)."
      ]
    },
    {
      "cell_type": "markdown",
      "metadata": {
        "id": "RyD3LiLJFj5D"
      },
      "source": [
        "## Follow Along"
      ]
    },
    {
      "cell_type": "markdown",
      "metadata": {
        "id": "QPYQ2mGEFj5E"
      },
      "source": [
        "First, begin to **explore and clean your data.**"
      ]
    },
    {
      "cell_type": "code",
      "metadata": {
        "id": "2Iu-q3oTFj5E",
        "outputId": "f6e34d12-5c06-4bc1-c21b-faa30b87ae43"
      },
      "source": [
        "# How many kinds of burritos?\n",
        "df['Burrito'].nunique()"
      ],
      "execution_count": null,
      "outputs": [
        {
          "output_type": "execute_result",
          "data": {
            "text/plain": [
              "132"
            ]
          },
          "metadata": {
            "tags": []
          },
          "execution_count": 8
        }
      ]
    },
    {
      "cell_type": "code",
      "metadata": {
        "id": "XfDE7e4BFj5H",
        "outputId": "f0196107-a276-4c0c-bca1-0f79e1e428ca"
      },
      "source": [
        "# What kinds of burritos?\n",
        "df['Burrito'].unique()"
      ],
      "execution_count": null,
      "outputs": [
        {
          "output_type": "execute_result",
          "data": {
            "text/plain": [
              "array(['California ', 'Carnitas', 'Carne asada', 'California',\n",
              "       'combo chicken', 'Monster California', 'Carne Asada',\n",
              "       'Surf & Turf', 'Chile verde pork', 'battered fish ',\n",
              "       'Surf and turf ', 'Adobada ', 'Barbacoa', '2 in 1', 'Adobado',\n",
              "       'Shredded beef', 'Hawaiian', 'Bandido', 'Campeon', 'carne asada',\n",
              "       'California chicken', 'Azteca', 'Lobster', 'Al pastor', 'Custom',\n",
              "       'Machaca', 'Quesaburro', 'Philly ', 'Quesa', 'Surf and turf',\n",
              "       'Mahi', 'Addiction', 'Oaxacalifornia', \"Deborah's special\",\n",
              "       'Chicken nopalito', 'Adobada', 'Chicken', 'California Everything',\n",
              "       'Chile relleno and carnitas', 'California (only cheese)', 'Fish',\n",
              "       'Chimichanga beef', 'Pastor', 'El Hawaiiano ', 'Shrimp',\n",
              "       'El Rusio', 'Bacon breakfast', 'Chile Relleno', 'Bomb', 'Arizona',\n",
              "       'California Burrito', '619 Burrito Original', 'Chicken asada',\n",
              "       'Carne adobada ', 'Bean and cheese', 'Pokirrito classic ',\n",
              "       'Mauna Lani', 'Especial ', 'Ranchero steak', 'Vegetarian',\n",
              "       'Colimas burrito', 'Bean and rice grande size', 'Surf and Turf',\n",
              "       'Bean and Cheese', 'Pollo california', 'California breakfast',\n",
              "       'Baja monster', 'Local', 'Fusion', 'California Surf', 'Super',\n",
              "       'Mixed', 'Carne asada everything', 'Pollo asado', 'Tilapia one',\n",
              "       'Surfin California', 'Nutty', 'Veg Out', 'Veggie',\n",
              "       'California - Steak', 'California - Pork Adobada',\n",
              "       'California - Chicken', 'Holy Moly', 'Barbacoa ',\n",
              "       'California + Guac + sour cream', 'Al Pastor', 'Pollo adobado',\n",
              "       'Asada', 'California Chipotle', \"Dave's California\",\n",
              "       'Chicken and rice', 'Breakfast', 'Fajitas ', 'Tejano',\n",
              "       'Shrimp with guac', 'Bean & cheese', 'Al pastor ',\n",
              "       'Carne asada supreme', 'Cali Diablo', 'Pork california',\n",
              "       'Bitchin California', 'Tijuana', 'Combo chicken',\n",
              "       'Chicken avocado', 'Cabeza', 'Chicken Shawarma', 'Hot cheetos',\n",
              "       'Spicy a la Diabla', 'California everything',\n",
              "       'California everything mini', 'TGunz', 'Al pastor tradicional ',\n",
              "       'Grilled fish salmon', 'Cheese steak', 'California Surf and Turf',\n",
              "       'Shrimp california', 'carne asada ', 'fried fish',\n",
              "       'Steak everything ', 'Golden State', 'Steak fajitas', 'Hashbrown',\n",
              "       'Steak with guacamole', 'Chile Verde (pork)', 'Supreme chicken',\n",
              "       'Carnitas ', 'Alambre california', 'Surfin california',\n",
              "       'Ado-haba california', 'Ala tingada california', 'La Paz',\n",
              "       'Pollo Asado'], dtype=object)"
            ]
          },
          "metadata": {
            "tags": []
          },
          "execution_count": 9
        }
      ]
    },
    {
      "cell_type": "code",
      "metadata": {
        "id": "Sa_osGPjFj5J",
        "outputId": "9904fc8e-f1aa-40d1-d3e9-975567114520"
      },
      "source": [
        "# Combine Burrito categories\n",
        "df['Burrito'] = df['Burrito'].str.lower()\n",
        "\n",
        "california = df['Burrito'].str.contains('california')\n",
        "asada = df['Burrito'].str.contains('asada')\n",
        "surf = df['Burrito'].str.contains('surf')\n",
        "carnitas = df['Burrito'].str.contains('carnitas')\n",
        "\n",
        "df.loc[california, 'Burrito'] = 'California'\n",
        "df.loc[asada, 'Burrito'] = 'Asada'\n",
        "df.loc[surf, 'Burrito'] = 'Surf & Turf'\n",
        "df.loc[carnitas, 'Burrito'] = 'Carnitas'\n",
        "df.loc[~california & ~asada & ~surf & ~carnitas, 'Burrito'] = 'Other'\n",
        "\n",
        "df['Burrito'].value_counts()"
      ],
      "execution_count": null,
      "outputs": [
        {
          "output_type": "execute_result",
          "data": {
            "text/plain": [
              "California     169\n",
              "Other          156\n",
              "Asada           43\n",
              "Surf & Turf     28\n",
              "Carnitas        25\n",
              "Name: Burrito, dtype: int64"
            ]
          },
          "metadata": {
            "tags": []
          },
          "execution_count": 10
        }
      ]
    },
    {
      "cell_type": "code",
      "metadata": {
        "id": "WUF3_mGnFj5L"
      },
      "source": [
        "# Drop some high cardinality categoricals\n",
        "df = df.drop(columns=['Notes', 'Location', 'Reviewer', 'Address', 'URL', 'Neighborhood'])"
      ],
      "execution_count": null,
      "outputs": []
    },
    {
      "cell_type": "code",
      "metadata": {
        "id": "R2DDTr9JFj5O",
        "outputId": "07af9217-fb04-4e9a-d2bf-4f86fdd452f1"
      },
      "source": [
        "# Count the missing values\n",
        "df.isna().sum().sort_values()"
      ],
      "execution_count": null,
      "outputs": [
        {
          "output_type": "execute_result",
          "data": {
            "text/plain": [
              "Burrito       0\n",
              "overall       0\n",
              "Tortilla      0\n",
              "Great         0\n",
              "Date          0\n",
              "           ... \n",
              "Ham         419\n",
              "Lobster     420\n",
              "Zucchini    420\n",
              "Carrots     420\n",
              "Queso       421\n",
              "Length: 61, dtype: int64"
            ]
          },
          "metadata": {
            "tags": []
          },
          "execution_count": 12
        }
      ]
    },
    {
      "cell_type": "code",
      "metadata": {
        "id": "9NpeYobDFj5Q"
      },
      "source": [
        "# Fill missing values, just with a quick hack for now\n",
        "df = df.fillna('Missing')"
      ],
      "execution_count": null,
      "outputs": []
    },
    {
      "cell_type": "markdown",
      "metadata": {
        "id": "1Dlylq1AFj5S"
      },
      "source": [
        "Next, do a **time-based split:**\n",
        "\n",
        "- Train on reviews from 2016 & earlier. \n",
        "- Validate on 2017. \n",
        "- Test on 2018 & later."
      ]
    },
    {
      "cell_type": "code",
      "metadata": {
        "id": "hXFHQVjxFj5U"
      },
      "source": [
        "df['Date'] = pd.to_datetime(df['Date'])"
      ],
      "execution_count": null,
      "outputs": []
    },
    {
      "cell_type": "code",
      "metadata": {
        "id": "s5BB4tjZFj5X"
      },
      "source": [
        "train = df[df['Date'].dt.year <= 2016]\n",
        "val = df[df['Date'].dt.year == 2017]\n",
        "test = df[df['Date'].dt.year >= 2018]"
      ],
      "execution_count": null,
      "outputs": []
    },
    {
      "cell_type": "code",
      "metadata": {
        "id": "yQFa0seYFj5Z",
        "outputId": "cb0e0f41-f291-49e5-ae9b-26234bcaa9bb"
      },
      "source": [
        "train.shape, val.shape, test.shape"
      ],
      "execution_count": null,
      "outputs": [
        {
          "output_type": "execute_result",
          "data": {
            "text/plain": [
              "((298, 61), (85, 61), (38, 61))"
            ]
          },
          "metadata": {
            "tags": []
          },
          "execution_count": 16
        }
      ]
    },
    {
      "cell_type": "markdown",
      "metadata": {
        "id": "PR2ycFvuFj5c"
      },
      "source": [
        "Begin to choose which features, if any, to exclude. **Would some features “leak” future information?**\n",
        "\n",
        "What happens if we _DON’T_ drop features with leakage?"
      ]
    },
    {
      "cell_type": "code",
      "metadata": {
        "id": "CK3bNlt_Fj5c",
        "outputId": "90c29aa9-962e-4142-9b2c-a8112e75fe16"
      },
      "source": [
        "# Try a shallow decision tree as a fast, first model\n",
        "\n",
        "import category_encoders as ce\n",
        "from sklearn.pipeline import make_pipeline\n",
        "from sklearn.tree import DecisionTreeClassifier\n",
        "\n",
        "target = 'Great'\n",
        "features = train.columns.drop([target, 'Date'])\n",
        "X_train = train[features]\n",
        "y_train = train[target]\n",
        "X_val = val[features]\n",
        "y_val = val[target]\n",
        "\n",
        "pipeline = make_pipeline(\n",
        "    ce.OrdinalEncoder(), \n",
        "    DecisionTreeClassifier(max_depth=3)\n",
        ")\n",
        "\n",
        "pipeline.fit(X_train, y_train)\n",
        "print('Validation Accuracy', pipeline.score(X_val, y_val))"
      ],
      "execution_count": null,
      "outputs": [
        {
          "output_type": "stream",
          "text": [
            "Validation Accuracy 1.0\n"
          ],
          "name": "stdout"
        }
      ]
    },
    {
      "cell_type": "code",
      "metadata": {
        "id": "bDL7bv5zFj5f",
        "outputId": "6f56fa96-5073-486c-a47f-9a69e2e3f060"
      },
      "source": [
        "# This score is too good to be true.\n",
        "# Visualize the decision tree, to see what the model \"learned\"\n",
        "\n",
        "import graphviz\n",
        "from sklearn.tree import export_graphviz\n",
        "\n",
        "tree = pipeline.named_steps['decisiontreeclassifier']\n",
        "\n",
        "dot_data = export_graphviz(\n",
        "    tree, \n",
        "    out_file=None, \n",
        "    feature_names=X_train.columns, \n",
        "    class_names=y_train.unique().astype(str), \n",
        "    filled=True, \n",
        "    impurity=False,\n",
        "    proportion=True\n",
        ")\n",
        "\n",
        "graphviz.Source(dot_data)"
      ],
      "execution_count": null,
      "outputs": [
        {
          "output_type": "execute_result",
          "data": {
            "image/svg+xml": "<?xml version=\"1.0\" encoding=\"UTF-8\" standalone=\"no\"?>\n<!DOCTYPE svg PUBLIC \"-//W3C//DTD SVG 1.1//EN\"\n \"http://www.w3.org/Graphics/SVG/1.1/DTD/svg11.dtd\">\n<!-- Generated by graphviz version 2.42.3 (20191010.1750)\n -->\n<!-- Title: Tree Pages: 1 -->\n<svg width=\"252pt\" height=\"158pt\"\n viewBox=\"0.00 0.00 251.54 158.00\" xmlns=\"http://www.w3.org/2000/svg\" xmlns:xlink=\"http://www.w3.org/1999/xlink\">\n<g id=\"graph0\" class=\"graph\" transform=\"scale(1 1) rotate(0) translate(4 154)\">\n<title>Tree</title>\n<polygon fill=\"white\" stroke=\"transparent\" points=\"-4,4 -4,-154 247.54,-154 247.54,4 -4,4\"/>\n<!-- 0 -->\n<g id=\"node1\" class=\"node\">\n<title>0</title>\n<polygon fill=\"#f7d8c2\" stroke=\"black\" points=\"191.31,-150 51.23,-150 51.23,-86 191.31,-86 191.31,-150\"/>\n<text text-anchor=\"middle\" x=\"121.27\" y=\"-134.8\" font-family=\"Times,serif\" font-size=\"14.00\">overall &lt;= 3.95</text>\n<text text-anchor=\"middle\" x=\"121.27\" y=\"-120.8\" font-family=\"Times,serif\" font-size=\"14.00\">samples = 100.0%</text>\n<text text-anchor=\"middle\" x=\"121.27\" y=\"-106.8\" font-family=\"Times,serif\" font-size=\"14.00\">value = [0.591, 0.409]</text>\n<text text-anchor=\"middle\" x=\"121.27\" y=\"-92.8\" font-family=\"Times,serif\" font-size=\"14.00\">class = False</text>\n</g>\n<!-- 1 -->\n<g id=\"node2\" class=\"node\">\n<title>1</title>\n<polygon fill=\"#e58139\" stroke=\"black\" points=\"112.31,-50 0.23,-50 0.23,0 112.31,0 112.31,-50\"/>\n<text text-anchor=\"middle\" x=\"56.27\" y=\"-34.8\" font-family=\"Times,serif\" font-size=\"14.00\">samples = 59.1%</text>\n<text text-anchor=\"middle\" x=\"56.27\" y=\"-20.8\" font-family=\"Times,serif\" font-size=\"14.00\">value = [1.0, 0.0]</text>\n<text text-anchor=\"middle\" x=\"56.27\" y=\"-6.8\" font-family=\"Times,serif\" font-size=\"14.00\">class = False</text>\n</g>\n<!-- 0&#45;&gt;1 -->\n<g id=\"edge1\" class=\"edge\">\n<title>0&#45;&gt;1</title>\n<path fill=\"none\" stroke=\"black\" d=\"M99.08,-85.94C92.73,-77.04 85.79,-67.32 79.38,-58.35\"/>\n<polygon fill=\"black\" stroke=\"black\" points=\"82.09,-56.13 73.43,-50.03 76.4,-60.2 82.09,-56.13\"/>\n<text text-anchor=\"middle\" x=\"69.32\" y=\"-70.49\" font-family=\"Times,serif\" font-size=\"14.00\">True</text>\n</g>\n<!-- 2 -->\n<g id=\"node3\" class=\"node\">\n<title>2</title>\n<polygon fill=\"#399de5\" stroke=\"black\" points=\"243.31,-50 131.23,-50 131.23,0 243.31,0 243.31,-50\"/>\n<text text-anchor=\"middle\" x=\"187.27\" y=\"-34.8\" font-family=\"Times,serif\" font-size=\"14.00\">samples = 40.9%</text>\n<text text-anchor=\"middle\" x=\"187.27\" y=\"-20.8\" font-family=\"Times,serif\" font-size=\"14.00\">value = [0.0, 1.0]</text>\n<text text-anchor=\"middle\" x=\"187.27\" y=\"-6.8\" font-family=\"Times,serif\" font-size=\"14.00\">class = True</text>\n</g>\n<!-- 0&#45;&gt;2 -->\n<g id=\"edge2\" class=\"edge\">\n<title>0&#45;&gt;2</title>\n<path fill=\"none\" stroke=\"black\" d=\"M143.8,-85.94C150.25,-77.04 157.3,-67.32 163.8,-58.35\"/>\n<polygon fill=\"black\" stroke=\"black\" points=\"166.8,-60.18 169.84,-50.03 161.14,-56.07 166.8,-60.18\"/>\n<text text-anchor=\"middle\" x=\"173.77\" y=\"-70.52\" font-family=\"Times,serif\" font-size=\"14.00\">False</text>\n</g>\n</g>\n</svg>\n",
            "text/plain": [
              "<graphviz.files.Source at 0x117d6cad0>"
            ]
          },
          "metadata": {
            "tags": []
          },
          "execution_count": 18
        }
      ]
    },
    {
      "cell_type": "markdown",
      "metadata": {
        "id": "VFkP3vziFj5g"
      },
      "source": [
        "Drop the column with “leakage”."
      ]
    },
    {
      "cell_type": "code",
      "metadata": {
        "id": "7vaxME5oFj5h",
        "outputId": "b6128787-d01d-4641-adaf-12f5158f69fd"
      },
      "source": [
        "# Drop 'overall' column too, because it's leakage.\n",
        "# Then re-fit the shallow decision tree. \n",
        "# Now the score is more reasonable.\n",
        "\n",
        "features = train.columns.drop([target, 'Date', 'overall'])\n",
        "X_train = train[features]\n",
        "X_val = val[features]\n",
        "\n",
        "pipeline = make_pipeline(\n",
        "    ce.OrdinalEncoder(), \n",
        "    DecisionTreeClassifier(max_depth=3)\n",
        ")\n",
        "\n",
        "pipeline.fit(X_train, y_train)\n",
        "print('Validation Accuracy', pipeline.score(X_val, y_val))"
      ],
      "execution_count": null,
      "outputs": [
        {
          "output_type": "stream",
          "text": [
            "Validation Accuracy 0.8\n"
          ],
          "name": "stdout"
        }
      ]
    },
    {
      "cell_type": "code",
      "metadata": {
        "id": "yIZcVR4pFj5j",
        "outputId": "9c90f448-1871-49a0-912c-582dabbd0020"
      },
      "source": [
        "# Re-run the same code to visualize the decision tree. \n",
        "# Now the tree looks more reasonable.\n",
        "\n",
        "import graphviz\n",
        "from sklearn.tree import export_graphviz\n",
        "\n",
        "tree = pipeline.named_steps['decisiontreeclassifier']\n",
        "\n",
        "dot_data = export_graphviz(\n",
        "    tree, \n",
        "    out_file=None, \n",
        "    feature_names=X_train.columns, \n",
        "    class_names=y_train.unique().astype(str), \n",
        "    filled=True, \n",
        "    impurity=False,\n",
        "    proportion=True\n",
        ")\n",
        "\n",
        "graphviz.Source(dot_data)"
      ],
      "execution_count": null,
      "outputs": [
        {
          "output_type": "execute_result",
          "data": {
            "image/svg+xml": "<?xml version=\"1.0\" encoding=\"UTF-8\" standalone=\"no\"?>\n<!DOCTYPE svg PUBLIC \"-//W3C//DTD SVG 1.1//EN\"\n \"http://www.w3.org/Graphics/SVG/1.1/DTD/svg11.dtd\">\n<!-- Generated by graphviz version 2.42.3 (20191010.1750)\n -->\n<!-- Title: Tree Pages: 1 -->\n<svg width=\"1215pt\" height=\"358pt\"\n viewBox=\"0.00 0.00 1215.28 358.00\" xmlns=\"http://www.w3.org/2000/svg\" xmlns:xlink=\"http://www.w3.org/1999/xlink\">\n<g id=\"graph0\" class=\"graph\" transform=\"scale(1 1) rotate(0) translate(4 354)\">\n<title>Tree</title>\n<polygon fill=\"white\" stroke=\"transparent\" points=\"-4,4 -4,-354 1211.28,-354 1211.28,4 -4,4\"/>\n<!-- 0 -->\n<g id=\"node1\" class=\"node\">\n<title>0</title>\n<polygon fill=\"#f7d8c2\" stroke=\"black\" points=\"653.31,-350 513.23,-350 513.23,-286 653.31,-286 653.31,-350\"/>\n<text text-anchor=\"middle\" x=\"583.27\" y=\"-334.8\" font-family=\"Times,serif\" font-size=\"14.00\">Fillings &lt;= 4.5</text>\n<text text-anchor=\"middle\" x=\"583.27\" y=\"-320.8\" font-family=\"Times,serif\" font-size=\"14.00\">samples = 100.0%</text>\n<text text-anchor=\"middle\" x=\"583.27\" y=\"-306.8\" font-family=\"Times,serif\" font-size=\"14.00\">value = [0.591, 0.409]</text>\n<text text-anchor=\"middle\" x=\"583.27\" y=\"-292.8\" font-family=\"Times,serif\" font-size=\"14.00\">class = False</text>\n</g>\n<!-- 1 -->\n<g id=\"node2\" class=\"node\">\n<title>1</title>\n<polygon fill=\"#ea9a61\" stroke=\"black\" points=\"516.31,-250 376.23,-250 376.23,-186 516.31,-186 516.31,-250\"/>\n<text text-anchor=\"middle\" x=\"446.27\" y=\"-234.8\" font-family=\"Times,serif\" font-size=\"14.00\">Synergy &lt;= 1.5</text>\n<text text-anchor=\"middle\" x=\"446.27\" y=\"-220.8\" font-family=\"Times,serif\" font-size=\"14.00\">samples = 50.0%</text>\n<text text-anchor=\"middle\" x=\"446.27\" y=\"-206.8\" font-family=\"Times,serif\" font-size=\"14.00\">value = [0.832, 0.168]</text>\n<text text-anchor=\"middle\" x=\"446.27\" y=\"-192.8\" font-family=\"Times,serif\" font-size=\"14.00\">class = False</text>\n</g>\n<!-- 0&#45;&gt;1 -->\n<g id=\"edge1\" class=\"edge\">\n<title>0&#45;&gt;1</title>\n<path fill=\"none\" stroke=\"black\" d=\"M539.92,-285.99C526.68,-276.52 511.98,-266 498.22,-256.17\"/>\n<polygon fill=\"black\" stroke=\"black\" points=\"499.97,-253.11 489.8,-250.14 495.9,-258.81 499.97,-253.11\"/>\n<text text-anchor=\"middle\" x=\"493.9\" y=\"-270.61\" font-family=\"Times,serif\" font-size=\"14.00\">True</text>\n</g>\n<!-- 8 -->\n<g id=\"node9\" class=\"node\">\n<title>8</title>\n<polygon fill=\"#a3d2f3\" stroke=\"black\" points=\"812.31,-250 672.23,-250 672.23,-186 812.31,-186 812.31,-250\"/>\n<text text-anchor=\"middle\" x=\"742.27\" y=\"-234.8\" font-family=\"Times,serif\" font-size=\"14.00\">Meat &lt;= 3.5</text>\n<text text-anchor=\"middle\" x=\"742.27\" y=\"-220.8\" font-family=\"Times,serif\" font-size=\"14.00\">samples = 50.0%</text>\n<text text-anchor=\"middle\" x=\"742.27\" y=\"-206.8\" font-family=\"Times,serif\" font-size=\"14.00\">value = [0.349, 0.651]</text>\n<text text-anchor=\"middle\" x=\"742.27\" y=\"-192.8\" font-family=\"Times,serif\" font-size=\"14.00\">class = True</text>\n</g>\n<!-- 0&#45;&gt;8 -->\n<g id=\"edge8\" class=\"edge\">\n<title>0&#45;&gt;8</title>\n<path fill=\"none\" stroke=\"black\" d=\"M633.58,-285.99C649.24,-276.34 666.65,-265.61 682.87,-255.61\"/>\n<polygon fill=\"black\" stroke=\"black\" points=\"685.07,-258.37 691.74,-250.14 681.39,-252.41 685.07,-258.37\"/>\n<text text-anchor=\"middle\" x=\"685.97\" y=\"-270.27\" font-family=\"Times,serif\" font-size=\"14.00\">False</text>\n</g>\n<!-- 2 -->\n<g id=\"node3\" class=\"node\">\n<title>2</title>\n<polygon fill=\"#fcf0e8\" stroke=\"black\" points=\"299.31,-150 159.23,-150 159.23,-86 299.31,-86 299.31,-150\"/>\n<text text-anchor=\"middle\" x=\"229.27\" y=\"-134.8\" font-family=\"Times,serif\" font-size=\"14.00\">Tortilla &lt;= 3.9</text>\n<text text-anchor=\"middle\" x=\"229.27\" y=\"-120.8\" font-family=\"Times,serif\" font-size=\"14.00\">samples = 10.7%</text>\n<text text-anchor=\"middle\" x=\"229.27\" y=\"-106.8\" font-family=\"Times,serif\" font-size=\"14.00\">value = [0.531, 0.469]</text>\n<text text-anchor=\"middle\" x=\"229.27\" y=\"-92.8\" font-family=\"Times,serif\" font-size=\"14.00\">class = False</text>\n</g>\n<!-- 1&#45;&gt;2 -->\n<g id=\"edge2\" class=\"edge\">\n<title>1&#45;&gt;2</title>\n<path fill=\"none\" stroke=\"black\" d=\"M377.61,-185.99C355.35,-175.94 330.48,-164.71 307.57,-154.36\"/>\n<polygon fill=\"black\" stroke=\"black\" points=\"308.78,-151.07 298.23,-150.14 305.9,-157.45 308.78,-151.07\"/>\n</g>\n<!-- 5 -->\n<g id=\"node6\" class=\"node\">\n<title>5</title>\n<polygon fill=\"#e78d4c\" stroke=\"black\" points=\"516.31,-150 376.23,-150 376.23,-86 516.31,-86 516.31,-150\"/>\n<text text-anchor=\"middle\" x=\"446.27\" y=\"-134.8\" font-family=\"Times,serif\" font-size=\"14.00\">Temp &lt;= 14.5</text>\n<text text-anchor=\"middle\" x=\"446.27\" y=\"-120.8\" font-family=\"Times,serif\" font-size=\"14.00\">samples = 39.3%</text>\n<text text-anchor=\"middle\" x=\"446.27\" y=\"-106.8\" font-family=\"Times,serif\" font-size=\"14.00\">value = [0.915, 0.085]</text>\n<text text-anchor=\"middle\" x=\"446.27\" y=\"-92.8\" font-family=\"Times,serif\" font-size=\"14.00\">class = False</text>\n</g>\n<!-- 1&#45;&gt;5 -->\n<g id=\"edge5\" class=\"edge\">\n<title>1&#45;&gt;5</title>\n<path fill=\"none\" stroke=\"black\" d=\"M446.27,-185.99C446.27,-177.86 446.27,-168.96 446.27,-160.38\"/>\n<polygon fill=\"black\" stroke=\"black\" points=\"449.77,-160.14 446.27,-150.14 442.77,-160.14 449.77,-160.14\"/>\n</g>\n<!-- 3 -->\n<g id=\"node4\" class=\"node\">\n<title>3</title>\n<polygon fill=\"#efb185\" stroke=\"black\" points=\"140.31,-50 0.23,-50 0.23,0 140.31,0 140.31,-50\"/>\n<text text-anchor=\"middle\" x=\"70.27\" y=\"-34.8\" font-family=\"Times,serif\" font-size=\"14.00\">samples = 6.0%</text>\n<text text-anchor=\"middle\" x=\"70.27\" y=\"-20.8\" font-family=\"Times,serif\" font-size=\"14.00\">value = [0.722, 0.278]</text>\n<text text-anchor=\"middle\" x=\"70.27\" y=\"-6.8\" font-family=\"Times,serif\" font-size=\"14.00\">class = False</text>\n</g>\n<!-- 2&#45;&gt;3 -->\n<g id=\"edge3\" class=\"edge\">\n<title>2&#45;&gt;3</title>\n<path fill=\"none\" stroke=\"black\" d=\"M174.99,-85.94C157.53,-75.94 138.25,-64.91 121.04,-55.06\"/>\n<polygon fill=\"black\" stroke=\"black\" points=\"122.67,-51.96 112.26,-50.03 119.2,-58.04 122.67,-51.96\"/>\n</g>\n<!-- 4 -->\n<g id=\"node5\" class=\"node\">\n<title>4</title>\n<polygon fill=\"#88c4ef\" stroke=\"black\" points=\"299.31,-50 159.23,-50 159.23,0 299.31,0 299.31,-50\"/>\n<text text-anchor=\"middle\" x=\"229.27\" y=\"-34.8\" font-family=\"Times,serif\" font-size=\"14.00\">samples = 4.7%</text>\n<text text-anchor=\"middle\" x=\"229.27\" y=\"-20.8\" font-family=\"Times,serif\" font-size=\"14.00\">value = [0.286, 0.714]</text>\n<text text-anchor=\"middle\" x=\"229.27\" y=\"-6.8\" font-family=\"Times,serif\" font-size=\"14.00\">class = True</text>\n</g>\n<!-- 2&#45;&gt;4 -->\n<g id=\"edge4\" class=\"edge\">\n<title>2&#45;&gt;4</title>\n<path fill=\"none\" stroke=\"black\" d=\"M229.27,-85.94C229.27,-77.68 229.27,-68.72 229.27,-60.31\"/>\n<polygon fill=\"black\" stroke=\"black\" points=\"232.77,-60.03 229.27,-50.03 225.77,-60.03 232.77,-60.03\"/>\n</g>\n<!-- 6 -->\n<g id=\"node7\" class=\"node\">\n<title>6</title>\n<polygon fill=\"#e78a48\" stroke=\"black\" points=\"444.31,-50 318.23,-50 318.23,0 444.31,0 444.31,-50\"/>\n<text text-anchor=\"middle\" x=\"381.27\" y=\"-34.8\" font-family=\"Times,serif\" font-size=\"14.00\">samples = 38.6%</text>\n<text text-anchor=\"middle\" x=\"381.27\" y=\"-20.8\" font-family=\"Times,serif\" font-size=\"14.00\">value = [0.93, 0.07]</text>\n<text text-anchor=\"middle\" x=\"381.27\" y=\"-6.8\" font-family=\"Times,serif\" font-size=\"14.00\">class = False</text>\n</g>\n<!-- 5&#45;&gt;6 -->\n<g id=\"edge6\" class=\"edge\">\n<title>5&#45;&gt;6</title>\n<path fill=\"none\" stroke=\"black\" d=\"M424.08,-85.94C417.73,-77.04 410.79,-67.32 404.38,-58.35\"/>\n<polygon fill=\"black\" stroke=\"black\" points=\"407.09,-56.13 398.43,-50.03 401.4,-60.2 407.09,-56.13\"/>\n</g>\n<!-- 7 -->\n<g id=\"node8\" class=\"node\">\n<title>7</title>\n<polygon fill=\"#399de5\" stroke=\"black\" points=\"575.31,-50 463.23,-50 463.23,0 575.31,0 575.31,-50\"/>\n<text text-anchor=\"middle\" x=\"519.27\" y=\"-34.8\" font-family=\"Times,serif\" font-size=\"14.00\">samples = 0.7%</text>\n<text text-anchor=\"middle\" x=\"519.27\" y=\"-20.8\" font-family=\"Times,serif\" font-size=\"14.00\">value = [0.0, 1.0]</text>\n<text text-anchor=\"middle\" x=\"519.27\" y=\"-6.8\" font-family=\"Times,serif\" font-size=\"14.00\">class = True</text>\n</g>\n<!-- 5&#45;&gt;7 -->\n<g id=\"edge7\" class=\"edge\">\n<title>5&#45;&gt;7</title>\n<path fill=\"none\" stroke=\"black\" d=\"M471.19,-85.94C478.4,-76.95 486.28,-67.12 493.54,-58.07\"/>\n<polygon fill=\"black\" stroke=\"black\" points=\"496.46,-60.02 499.99,-50.03 491,-55.64 496.46,-60.02\"/>\n</g>\n<!-- 9 -->\n<g id=\"node10\" class=\"node\">\n<title>9</title>\n<polygon fill=\"#f0b68c\" stroke=\"black\" points=\"812.31,-150 672.23,-150 672.23,-86 812.31,-86 812.31,-150\"/>\n<text text-anchor=\"middle\" x=\"742.27\" y=\"-134.8\" font-family=\"Times,serif\" font-size=\"14.00\">Tortilla &lt;= 3.75</text>\n<text text-anchor=\"middle\" x=\"742.27\" y=\"-120.8\" font-family=\"Times,serif\" font-size=\"14.00\">samples = 14.8%</text>\n<text text-anchor=\"middle\" x=\"742.27\" y=\"-106.8\" font-family=\"Times,serif\" font-size=\"14.00\">value = [0.705, 0.295]</text>\n<text text-anchor=\"middle\" x=\"742.27\" y=\"-92.8\" font-family=\"Times,serif\" font-size=\"14.00\">class = False</text>\n</g>\n<!-- 8&#45;&gt;9 -->\n<g id=\"edge9\" class=\"edge\">\n<title>8&#45;&gt;9</title>\n<path fill=\"none\" stroke=\"black\" d=\"M742.27,-185.99C742.27,-177.86 742.27,-168.96 742.27,-160.38\"/>\n<polygon fill=\"black\" stroke=\"black\" points=\"745.77,-160.14 742.27,-150.14 738.77,-160.14 745.77,-160.14\"/>\n</g>\n<!-- 12 -->\n<g id=\"node13\" class=\"node\">\n<title>12</title>\n<polygon fill=\"#6ab6ec\" stroke=\"black\" points=\"1035.31,-150 923.23,-150 923.23,-86 1035.31,-86 1035.31,-150\"/>\n<text text-anchor=\"middle\" x=\"979.27\" y=\"-134.8\" font-family=\"Times,serif\" font-size=\"14.00\">Meat &lt;= 7.5</text>\n<text text-anchor=\"middle\" x=\"979.27\" y=\"-120.8\" font-family=\"Times,serif\" font-size=\"14.00\">samples = 35.2%</text>\n<text text-anchor=\"middle\" x=\"979.27\" y=\"-106.8\" font-family=\"Times,serif\" font-size=\"14.00\">value = [0.2, 0.8]</text>\n<text text-anchor=\"middle\" x=\"979.27\" y=\"-92.8\" font-family=\"Times,serif\" font-size=\"14.00\">class = True</text>\n</g>\n<!-- 8&#45;&gt;12 -->\n<g id=\"edge12\" class=\"edge\">\n<title>8&#45;&gt;12</title>\n<path fill=\"none\" stroke=\"black\" d=\"M812.41,-187.99C844.45,-174.75 882.18,-159.15 913.65,-146.13\"/>\n<polygon fill=\"black\" stroke=\"black\" points=\"915.3,-149.24 923.2,-142.18 912.63,-142.77 915.3,-149.24\"/>\n</g>\n<!-- 10 -->\n<g id=\"node11\" class=\"node\">\n<title>10</title>\n<polygon fill=\"#e89153\" stroke=\"black\" points=\"733.29,-50 593.24,-50 593.24,0 733.29,0 733.29,-50\"/>\n<text text-anchor=\"middle\" x=\"663.27\" y=\"-34.8\" font-family=\"Times,serif\" font-size=\"14.00\">samples = 8.7%</text>\n<text text-anchor=\"middle\" x=\"663.27\" y=\"-20.8\" font-family=\"Times,serif\" font-size=\"14.00\">value = [0.885, 0.115]</text>\n<text text-anchor=\"middle\" x=\"663.27\" y=\"-6.8\" font-family=\"Times,serif\" font-size=\"14.00\">class = False</text>\n</g>\n<!-- 9&#45;&gt;10 -->\n<g id=\"edge10\" class=\"edge\">\n<title>9&#45;&gt;10</title>\n<path fill=\"none\" stroke=\"black\" d=\"M715.3,-85.94C707.42,-76.86 698.79,-66.92 690.87,-57.8\"/>\n<polygon fill=\"black\" stroke=\"black\" points=\"693.33,-55.29 684.13,-50.03 688.04,-59.88 693.33,-55.29\"/>\n</g>\n<!-- 11 -->\n<g id=\"node12\" class=\"node\">\n<title>11</title>\n<polygon fill=\"#d7ebfa\" stroke=\"black\" points=\"891.31,-50 751.23,-50 751.23,0 891.31,0 891.31,-50\"/>\n<text text-anchor=\"middle\" x=\"821.27\" y=\"-34.8\" font-family=\"Times,serif\" font-size=\"14.00\">samples = 6.0%</text>\n<text text-anchor=\"middle\" x=\"821.27\" y=\"-20.8\" font-family=\"Times,serif\" font-size=\"14.00\">value = [0.444, 0.556]</text>\n<text text-anchor=\"middle\" x=\"821.27\" y=\"-6.8\" font-family=\"Times,serif\" font-size=\"14.00\">class = True</text>\n</g>\n<!-- 9&#45;&gt;11 -->\n<g id=\"edge11\" class=\"edge\">\n<title>9&#45;&gt;11</title>\n<path fill=\"none\" stroke=\"black\" d=\"M769.23,-85.94C777.12,-76.86 785.74,-66.92 793.66,-57.8\"/>\n<polygon fill=\"black\" stroke=\"black\" points=\"796.49,-59.88 800.41,-50.03 791.21,-55.29 796.49,-59.88\"/>\n</g>\n<!-- 13 -->\n<g id=\"node14\" class=\"node\">\n<title>13</title>\n<polygon fill=\"#53aae8\" stroke=\"black\" points=\"1049.29,-50 909.24,-50 909.24,0 1049.29,0 1049.29,-50\"/>\n<text text-anchor=\"middle\" x=\"979.27\" y=\"-34.8\" font-family=\"Times,serif\" font-size=\"14.00\">samples = 29.2%</text>\n<text text-anchor=\"middle\" x=\"979.27\" y=\"-20.8\" font-family=\"Times,serif\" font-size=\"14.00\">value = [0.115, 0.885]</text>\n<text text-anchor=\"middle\" x=\"979.27\" y=\"-6.8\" font-family=\"Times,serif\" font-size=\"14.00\">class = True</text>\n</g>\n<!-- 12&#45;&gt;13 -->\n<g id=\"edge13\" class=\"edge\">\n<title>12&#45;&gt;13</title>\n<path fill=\"none\" stroke=\"black\" d=\"M979.27,-85.94C979.27,-77.68 979.27,-68.72 979.27,-60.31\"/>\n<polygon fill=\"black\" stroke=\"black\" points=\"982.77,-60.03 979.27,-50.03 975.77,-60.03 982.77,-60.03\"/>\n</g>\n<!-- 14 -->\n<g id=\"node15\" class=\"node\">\n<title>14</title>\n<polygon fill=\"#f6d1b7\" stroke=\"black\" points=\"1207.29,-50 1067.24,-50 1067.24,0 1207.29,0 1207.29,-50\"/>\n<text text-anchor=\"middle\" x=\"1137.27\" y=\"-34.8\" font-family=\"Times,serif\" font-size=\"14.00\">samples = 6.0%</text>\n<text text-anchor=\"middle\" x=\"1137.27\" y=\"-20.8\" font-family=\"Times,serif\" font-size=\"14.00\">value = [0.611, 0.389]</text>\n<text text-anchor=\"middle\" x=\"1137.27\" y=\"-6.8\" font-family=\"Times,serif\" font-size=\"14.00\">class = False</text>\n</g>\n<!-- 12&#45;&gt;14 -->\n<g id=\"edge14\" class=\"edge\">\n<title>12&#45;&gt;14</title>\n<path fill=\"none\" stroke=\"black\" d=\"M1033.2,-85.94C1050.56,-75.94 1069.72,-64.91 1086.81,-55.06\"/>\n<polygon fill=\"black\" stroke=\"black\" points=\"1088.63,-58.05 1095.55,-50.03 1085.13,-51.99 1088.63,-58.05\"/>\n</g>\n</g>\n</svg>\n",
            "text/plain": [
              "<graphviz.files.Source at 0x11ae15b10>"
            ]
          },
          "metadata": {
            "tags": []
          },
          "execution_count": 20
        }
      ]
    },
    {
      "cell_type": "markdown",
      "metadata": {
        "id": "lKx4tAeIFj5l"
      },
      "source": [
        "# Choose an appropriate evaluation metric"
      ]
    },
    {
      "cell_type": "markdown",
      "metadata": {
        "id": "J466nbyAFj5l"
      },
      "source": [
        "## Overview"
      ]
    },
    {
      "cell_type": "markdown",
      "metadata": {
        "id": "2ycDK4EDFj5m"
      },
      "source": [
        "How will you evaluate success for your predictive model? You must choose an appropriate evaluation metric, depending on the context and constraints of your problem.\n",
        "\n",
        "**Classification & regression metrics are different!**\n",
        "\n",
        "- Don’t use _regression_ metrics to evaluate _classification_ tasks.\n",
        "- Don’t use _classification_ metrics to evaluate _regression_ tasks.\n",
        "\n",
        "[Scikit-learn has lists of popular metrics.](https://scikit-learn.org/stable/modules/model_evaluation.html#common-cases-predefined-values)"
      ]
    },
    {
      "cell_type": "markdown",
      "metadata": {
        "id": "N-Q2YfNLFj5n"
      },
      "source": [
        "## Follow Along"
      ]
    },
    {
      "cell_type": "markdown",
      "metadata": {
        "id": "6NBkNGqXFj5n"
      },
      "source": [
        "For classification problems: \n",
        "\n",
        "As a rough rule of thumb, if your majority class frequency is >= 50% and < 70% then you can just use accuracy if you want. Outside that range, accuracy could be misleading — so what evaluation metric will you choose, in addition to or instead of accuracy? For example:\n",
        "\n",
        "- Precision?\n",
        "- Recall?\n",
        "- ROC AUC?\n"
      ]
    },
    {
      "cell_type": "code",
      "metadata": {
        "id": "OxSGvgT0Fj5o",
        "outputId": "266a8274-e66a-4851-bb99-69964d294314"
      },
      "source": [
        "# The majority class occurs with 57% frequency, so this is not too imbalanced. \n",
        "# I could just use accuracy score as my evaluation metric if I want to.\n",
        "y.value_counts(normalize=True).max()"
      ],
      "execution_count": null,
      "outputs": [
        {
          "output_type": "execute_result",
          "data": {
            "text/plain": [
              "0.5676959619952494"
            ]
          },
          "metadata": {
            "tags": []
          },
          "execution_count": 21
        }
      ]
    },
    {
      "cell_type": "markdown",
      "metadata": {
        "id": "m_U2qkO0Fj5q"
      },
      "source": [
        "### Precision & Recall\n",
        "\n",
        "Let's review Precision & Recall. What do these metrics mean, in scenarios like these?\n",
        "\n",
        "- Predict great burritos\n",
        "- Predict fraudulent transactions\n",
        "- Recommend Spotify songs\n",
        "\n",
        "[Are false positives or false negatives more costly? Can you optimize for dollars?](https://alexgude.com/blog/machine-learning-metrics-interview/)"
      ]
    },
    {
      "cell_type": "markdown",
      "metadata": {
        "id": "dZpzfOYTFj5r"
      },
      "source": [
        "```\n",
        "INSTRUCTOR NOTES:\n",
        "\n",
        "High **precision** means few **false positives.**\n",
        "\n",
        "High **recall** means few **false negatives.**\n",
        "\n",
        "Precision when predicting great **burritos** may be most important because I'm only going to eat one, so I want to make sure it's good.\n",
        "\n",
        "(n the other hand, is a \"bad\" burriito really that bad? Not to me, not from a taste perspective.\n",
        "\n",
        "Which metric would you emphasize if choosing a burrito place to take a first date to? Precision.\n",
        "\n",
        "Which metric would you emphasize if you are feeling adventurous? Recall. Could mean trying more thing to make sure you don't miss some new, different, great burrito that you otherwise wouldn't have tried.\n",
        "\n",
        "When predicting **fraud**:\n",
        "\n",
        "High pecision means when we predict fraud, it usually happened.\n",
        "\n",
        "High recall means when fraud happens, we usually predict it.\n",
        "\n",
        "True negative: A normal transaction.\n",
        "True positive: We caught the fraud!\n",
        "False Positive: (Lacking precision.) When a transaction is blocked, customers get annoyed, don't get product/service. Merchants and credit card company don't get paid.\n",
        "False Negative: (Lacking recall.) We missed the fraud! Money lost!\n",
        "\n",
        "For **Spotify recommendations**:\n",
        "\n",
        "High precision means, if we recommend the song, you'll like it.\n",
        "\n",
        "High recall means, if you'd like the song, we'll recommend it.\n",
        "\n",
        "```"
      ]
    },
    {
      "cell_type": "markdown",
      "metadata": {
        "id": "1-6RJSIDFj5r"
      },
      "source": [
        "### ROC AUC \n",
        "\n",
        "Let's also review ROC AUC (Receiver Operating Characteristic, Area Under the Curve).\n",
        "\n",
        "[Wikipedia explains,](https://en.wikipedia.org/wiki/Receiver_operating_characteristic) \"A receiver operating characteristic curve, or ROC curve, is a graphical plot that illustrates the diagnostic ability of a binary classifier system as its discrimination threshold is varied. **The ROC curve is created by plotting the true positive rate (TPR) against the false positive rate (FPR) at various threshold settings.**\"\n",
        "\n",
        "ROC AUC is the area under the ROC curve. [It can be interpreted](https://stats.stackexchange.com/questions/132777/what-does-auc-stand-for-and-what-is-it) as \"the expectation that a uniformly drawn random positive is ranked before a uniformly drawn random negative.\" \n",
        "\n",
        "ROC AUC measures **how well a classifier ranks predicted probabilities.** So, when you get your classifier’s ROC AUC score, you need to **use predicted probabilities, not discrete predictions.**\n",
        "\n",
        "ROC AUC ranges **from 0 to 1.** Higher is better. A naive majority class **baseline** will have an ROC AUC score of **0.5**, regardless of class (im)balance.\n",
        "\n",
        "#### Scikit-Learn docs\n",
        "- [User Guide: Receiver operating characteristic (ROC)](https://scikit-learn.org/stable/modules/model_evaluation.html#receiver-operating-characteristic-roc)\n",
        "- [sklearn.metrics.roc_curve](https://scikit-learn.org/stable/modules/generated/sklearn.metrics.roc_curve.html)\n",
        "- [sklearn.metrics.roc_auc_score](https://scikit-learn.org/stable/modules/generated/sklearn.metrics.roc_auc_score.html)\n",
        "\n",
        "#### More links\n",
        "- [StatQuest video](https://youtu.be/4jRBRDbJemM)\n",
        "- [Data School article / video](https://www.dataschool.io/roc-curves-and-auc-explained/)\n",
        "- [The philosophical argument for using ROC curves](https://lukeoakdenrayner.wordpress.com/2018/01/07/the-philosophical-argument-for-using-roc-curves/)\n"
      ]
    },
    {
      "cell_type": "code",
      "metadata": {
        "id": "VEi2EN5HFj5s",
        "outputId": "c6c1851e-70ee-443e-b4d9-4ee856e5ec4c"
      },
      "source": [
        "# Use sklearn to calculate ROC AUC \n",
        "# (You'll need to be able to do this on the Sprint Challenge)\n",
        "\n",
        "from sklearn.metrics import roc_auc_score\n",
        "y_pred_proba = pipeline.predict_proba(X_val)[:, -1] # Probability for the last class\n",
        "roc_auc_score(y_val, y_pred_proba)"
      ],
      "execution_count": null,
      "outputs": [
        {
          "output_type": "execute_result",
          "data": {
            "text/plain": [
              "0.8549832026875699"
            ]
          },
          "metadata": {
            "tags": []
          },
          "execution_count": 22
        }
      ]
    },
    {
      "cell_type": "code",
      "metadata": {
        "lines_to_next_cell": 2,
        "id": "_0ngX_6iFj5u"
      },
      "source": [
        "# Are you curious to better understand this?\n",
        "\n",
        "# \"The ROC curve is created by plotting the true positive rate (TPR)\n",
        "# against the false positive (FPR) at various threshold settings.\"\n",
        "\n",
        "# Use sklearn to calculate TPR & FPR at various thresholds\n",
        "from sklearn.metrics import roc_curve\n",
        "fpr, tpr, thresholds = roc_curve(y_val, y_pred_proba)"
      ],
      "execution_count": null,
      "outputs": []
    },
    {
      "cell_type": "code",
      "metadata": {
        "id": "T5gRiJ88Fj5w",
        "outputId": "940d63e9-d20e-4ed4-8264-f176dbb11e1d"
      },
      "source": [
        "# See the results in a table\n",
        "pd.DataFrame({\n",
        "    'False Positive Rate': fpr, \n",
        "    'True Positive Rate': tpr, \n",
        "    'Threshold': thresholds\n",
        "})"
      ],
      "execution_count": null,
      "outputs": [
        {
          "output_type": "execute_result",
          "data": {
            "text/html": [
              "<div>\n",
              "<style scoped>\n",
              "    .dataframe tbody tr th:only-of-type {\n",
              "        vertical-align: middle;\n",
              "    }\n",
              "\n",
              "    .dataframe tbody tr th {\n",
              "        vertical-align: top;\n",
              "    }\n",
              "\n",
              "    .dataframe thead th {\n",
              "        text-align: right;\n",
              "    }\n",
              "</style>\n",
              "<table border=\"1\" class=\"dataframe\">\n",
              "  <thead>\n",
              "    <tr style=\"text-align: right;\">\n",
              "      <th></th>\n",
              "      <th>False Positive Rate</th>\n",
              "      <th>True Positive Rate</th>\n",
              "      <th>Threshold</th>\n",
              "    </tr>\n",
              "  </thead>\n",
              "  <tbody>\n",
              "    <tr>\n",
              "      <th>0</th>\n",
              "      <td>0.000000</td>\n",
              "      <td>0.000000</td>\n",
              "      <td>1.885057</td>\n",
              "    </tr>\n",
              "    <tr>\n",
              "      <th>1</th>\n",
              "      <td>0.021277</td>\n",
              "      <td>0.605263</td>\n",
              "      <td>0.885057</td>\n",
              "    </tr>\n",
              "    <tr>\n",
              "      <th>2</th>\n",
              "      <td>0.106383</td>\n",
              "      <td>0.657895</td>\n",
              "      <td>0.714286</td>\n",
              "    </tr>\n",
              "    <tr>\n",
              "      <th>3</th>\n",
              "      <td>0.127660</td>\n",
              "      <td>0.710526</td>\n",
              "      <td>0.555556</td>\n",
              "    </tr>\n",
              "    <tr>\n",
              "      <th>4</th>\n",
              "      <td>0.148936</td>\n",
              "      <td>0.736842</td>\n",
              "      <td>0.388889</td>\n",
              "    </tr>\n",
              "    <tr>\n",
              "      <th>5</th>\n",
              "      <td>0.255319</td>\n",
              "      <td>0.789474</td>\n",
              "      <td>0.277778</td>\n",
              "    </tr>\n",
              "    <tr>\n",
              "      <th>6</th>\n",
              "      <td>0.276596</td>\n",
              "      <td>0.842105</td>\n",
              "      <td>0.115385</td>\n",
              "    </tr>\n",
              "    <tr>\n",
              "      <th>7</th>\n",
              "      <td>1.000000</td>\n",
              "      <td>1.000000</td>\n",
              "      <td>0.069565</td>\n",
              "    </tr>\n",
              "  </tbody>\n",
              "</table>\n",
              "</div>"
            ],
            "text/plain": [
              "   False Positive Rate  True Positive Rate  Threshold\n",
              "0             0.000000            0.000000   1.885057\n",
              "1             0.021277            0.605263   0.885057\n",
              "2             0.106383            0.657895   0.714286\n",
              "3             0.127660            0.710526   0.555556\n",
              "4             0.148936            0.736842   0.388889\n",
              "5             0.255319            0.789474   0.277778\n",
              "6             0.276596            0.842105   0.115385\n",
              "7             1.000000            1.000000   0.069565"
            ]
          },
          "metadata": {
            "tags": []
          },
          "execution_count": 24
        }
      ]
    },
    {
      "cell_type": "code",
      "metadata": {
        "id": "yVRn0BZyFj5y",
        "outputId": "766866db-5fb1-4463-be75-cc5118a3e9c0"
      },
      "source": [
        "# See the results on a plot.\n",
        "# This is the \"Receiver Operating Characteristic curve\"\n",
        "import matplotlib.pyplot as plt\n",
        "plt.scatter(fpr, tpr)\n",
        "plt.plot(fpr, tpr)\n",
        "plt.title('ROC curve')\n",
        "plt.xlabel('False Positive Rate')\n",
        "plt.ylabel('True Positive Rate');"
      ],
      "execution_count": null,
      "outputs": [
        {
          "output_type": "display_data",
          "data": {
            "image/png": "[encoded data removed]",
            "text/plain": [
              "<Figure size 432x288 with 1 Axes>"
            ]
          },
          "metadata": {
            "tags": [],
            "needs_background": "light"
          }
        }
      ]
    },
    {
      "cell_type": "markdown",
      "metadata": {
        "id": "3ypCnhIpFj50"
      },
      "source": [
        "### Imbalanced classes\n",
        "\n",
        "Do you have highly imbalanced classes?\n",
        "\n",
        "If so, you can try ideas from [Learning from Imbalanced Classes](https://www.svds.com/tbt-learning-imbalanced-classes/):\n",
        "\n",
        "- “Adjust the class weight (misclassification costs)” — most scikit-learn classifiers have a `class_balance` parameter.\n",
        "- “Adjust the decision threshold” — we did this last module. Read [Visualizing Machine Learning Thresholds to Make Better Business Decisions](https://blog.insightdatascience.com/visualizing-machine-learning-thresholds-to-make-better-business-decisions-4ab07f823415).\n",
        "- “Oversample the minority class, undersample the majority class, or synthesize new minority classes” — try the the [imbalanced-learn](https://github.com/scikit-learn-contrib/imbalanced-learn) library as a stretch goal."
      ]
    },
    {
      "cell_type": "markdown",
      "metadata": {
        "id": "bjawvJCiFj50"
      },
      "source": [
        "# BONUS: Regression example 🏘️\n"
      ]
    },
    {
      "cell_type": "code",
      "metadata": {
        "lines_to_next_cell": 2,
        "id": "lIo1poKzFj51"
      },
      "source": [
        "# Read our NYC apartment rental listing dataset\n",
        "df = pd.read_csv(DATA_PATH+'apartments/renthop-nyc.csv')"
      ],
      "execution_count": null,
      "outputs": []
    },
    {
      "cell_type": "markdown",
      "metadata": {
        "id": "1qMtAnarFj53"
      },
      "source": [
        "### Choose your target\n",
        "\n",
        "Which column in your tabular dataset will you predict?\n"
      ]
    },
    {
      "cell_type": "code",
      "metadata": {
        "lines_to_next_cell": 2,
        "id": "NvcDmbivFj53"
      },
      "source": [
        "y = df['price']"
      ],
      "execution_count": null,
      "outputs": []
    },
    {
      "cell_type": "markdown",
      "metadata": {
        "id": "BeACdQKOFj55"
      },
      "source": [
        "### How is your target distributed?\n",
        "\n",
        "For a regression problem, determine: Is the target right-skewed?\n"
      ]
    },
    {
      "cell_type": "code",
      "metadata": {
        "lines_to_next_cell": 2,
        "id": "_qNM7QCzFj56",
        "outputId": "8288f1b4-6798-452d-8597-a7ab5da54943"
      },
      "source": [
        "# Yes, the target is right-skewed\n",
        "import seaborn as sns\n",
        "sns.distplot(y);"
      ],
      "execution_count": null,
      "outputs": [
        {
          "output_type": "display_data",
          "data": {
            "image/png": "[encoded data removed]",
            "text/plain": [
              "<Figure size 432x288 with 1 Axes>"
            ]
          },
          "metadata": {
            "tags": [],
            "needs_background": "light"
          }
        }
      ]
    },
    {
      "cell_type": "code",
      "metadata": {
        "id": "y0FQyWjWFj58",
        "outputId": "808781aa-5c0e-4b31-e9a2-7ed465c5c9d9"
      },
      "source": [
        "y.describe()"
      ],
      "execution_count": null,
      "outputs": [
        {
          "output_type": "execute_result",
          "data": {
            "text/plain": [
              "count    4.935200e+04\n",
              "mean     3.830174e+03\n",
              "std      2.206687e+04\n",
              "min      4.300000e+01\n",
              "25%      2.500000e+03\n",
              "50%      3.150000e+03\n",
              "75%      4.100000e+03\n",
              "max      4.490000e+06\n",
              "Name: price, dtype: float64"
            ]
          },
          "metadata": {
            "tags": []
          },
          "execution_count": 29
        }
      ]
    },
    {
      "cell_type": "markdown",
      "metadata": {
        "id": "DefCexrBFj5-"
      },
      "source": [
        "### Are some observations outliers? \n",
        "\n",
        "Will you exclude\n",
        "them?\n"
      ]
    },
    {
      "cell_type": "code",
      "metadata": {
        "lines_to_next_cell": 2,
        "id": "Bj83z7JUFj5-"
      },
      "source": [
        "# Yes! There are outliers\n",
        "# Some prices are so high or low it doesn't really make sense.\n",
        "# Some locations aren't even in New York City\n",
        "\n",
        "# Remove the most extreme 1% prices, \n",
        "# the most extreme .1% latitudes, &\n",
        "# the most extreme .1% longitudes\n",
        "import numpy as np\n",
        "df = df[(df['price'] >= np.percentile(df['price'], 0.5)) & \n",
        "        (df['price'] <= np.percentile(df['price'], 99.5)) & \n",
        "        (df['latitude'] >= np.percentile(df['latitude'], 0.05)) & \n",
        "        (df['latitude'] < np.percentile(df['latitude'], 99.95)) &\n",
        "        (df['longitude'] >= np.percentile(df['longitude'], 0.05)) & \n",
        "        (df['longitude'] <= np.percentile(df['longitude'], 99.95))]"
      ],
      "execution_count": null,
      "outputs": []
    },
    {
      "cell_type": "code",
      "metadata": {
        "id": "mv6SHVIOFj6C",
        "outputId": "fe01d486-c153-4344-9458-25d928959353"
      },
      "source": [
        "# The distribution has improved, but is still right-skewed\n",
        "y = df['price']\n",
        "sns.distplot(y);"
      ],
      "execution_count": null,
      "outputs": [
        {
          "output_type": "display_data",
          "data": {
            "image/png": "[encoded data removed]",
            "text/plain": [
              "<Figure size 432x288 with 1 Axes>"
            ]
          },
          "metadata": {
            "tags": [],
            "needs_background": "light"
          }
        }
      ]
    },
    {
      "cell_type": "code",
      "metadata": {
        "id": "4gdMKbpVFj6F",
        "outputId": "fa23e836-5929-4ca7-81dc-32aff4879caf"
      },
      "source": [
        "y.describe()"
      ],
      "execution_count": null,
      "outputs": [
        {
          "output_type": "execute_result",
          "data": {
            "text/plain": [
              "count    48817.000000\n",
              "mean      3579.585247\n",
              "std       1762.430772\n",
              "min       1375.000000\n",
              "25%       2500.000000\n",
              "50%       3150.000000\n",
              "75%       4095.000000\n",
              "max      15500.000000\n",
              "Name: price, dtype: float64"
            ]
          },
          "metadata": {
            "tags": []
          },
          "execution_count": 32
        }
      ]
    },
    {
      "cell_type": "markdown",
      "metadata": {
        "id": "GnC8nHxCFj6I"
      },
      "source": [
        "### Log-Transform\n",
        "\n",
        "If the target is right-skewed, you may want to \"log transform\" the target.\n",
        "\n",
        "\n",
        "> Transforming the target variable (using the mathematical log function) into a tighter, more uniform space makes life easier for any [regression] model.\n",
        ">\n",
        "> The only problem is that, while easy to execute, understanding why taking the log of the target variable works and how it affects the training/testing process is intellectually challenging. You can skip this section for now, if you like, but just remember that this technique exists and check back here if needed in the future.\n",
        ">\n",
        "> Optimally, the distribution of prices would be a narrow “bell curve” distribution without a tail. This would make predictions based upon average prices more accurate. We need a mathematical operation that transforms the widely-distributed target prices into a new space. The “price in dollars space” has a long right tail because of outliers and we want to squeeze that space into a new space that is normally distributed. More specifically, we need to shrink large values a lot and smaller values a little. That magic operation is called the logarithm or log for short. \n",
        ">\n",
        "> To make actual predictions, we have to take the exp of model predictions to get prices in dollars instead of log dollars. \n",
        ">\n",
        ">— Terence Parr & Jeremy Howard, [The Mechanics of Machine Learning, Chapter 5.5](https://mlbook.explained.ai/prep.html#logtarget)\n",
        "\n",
        "[Numpy has exponents and logarithms](https://docs.scipy.org/doc/numpy/reference/routines.math.html#exponents-and-logarithms). Your Python code could look like this:\n",
        "\n",
        "```python\n",
        "import numpy as np\n",
        "y_train_log = np.log1p(y_train)\n",
        "model.fit(X_train, y_train_log)\n",
        "y_pred_log = model.predict(X_val)\n",
        "y_pred = np.expm1(y_pred_log)\n",
        "print(mean_absolute_error(y_val, y_pred))\n",
        "```\n",
        "\n"
      ]
    },
    {
      "cell_type": "code",
      "metadata": {
        "id": "Jo4WaWLuFj6J",
        "outputId": "1dc2b3de-3d3c-4dd4-a020-43b76fbb06cc"
      },
      "source": [
        "sns.distplot(y)\n",
        "plt.title('Original target, in the unit of US dollars');"
      ],
      "execution_count": null,
      "outputs": [
        {
          "output_type": "display_data",
          "data": {
            "image/png": "[encoded data removed]",
            "text/plain": [
              "<Figure size 432x288 with 1 Axes>"
            ]
          },
          "metadata": {
            "tags": [],
            "needs_background": "light"
          }
        }
      ]
    },
    {
      "cell_type": "code",
      "metadata": {
        "id": "DpQ_6qnuFj6K",
        "outputId": "f319170a-524d-455d-ea53-6e6e74345c0d"
      },
      "source": [
        "y_log = np.log1p(y)\n",
        "sns.distplot(y_log)\n",
        "plt.title('Log-transformed target, in log-dollars');"
      ],
      "execution_count": null,
      "outputs": [
        {
          "output_type": "display_data",
          "data": {
            "image/png": "[encoded data removed]",
            "text/plain": [
              "<Figure size 432x288 with 1 Axes>"
            ]
          },
          "metadata": {
            "tags": [],
            "needs_background": "light"
          }
        }
      ]
    },
    {
      "cell_type": "code",
      "metadata": {
        "id": "SNV7pvN1Fj6N",
        "outputId": "2517a755-b6fc-41af-9521-8ec533446c81"
      },
      "source": [
        "y_untransformed = np.expm1(y_log)\n",
        "sns.distplot(y_untransformed)\n",
        "plt.title('Back to the original units');"
      ],
      "execution_count": null,
      "outputs": [
        {
          "output_type": "display_data",
          "data": {
            "image/png": "[encoded data removed]",
            "text/plain": [
              "<Figure size 432x288 with 1 Axes>"
            ]
          },
          "metadata": {
            "tags": [],
            "needs_background": "light"
          }
        }
      ]
    },
    {
      "cell_type": "markdown",
      "metadata": {
        "id": "ECW9wkq7Fj6Q"
      },
      "source": [
        "## Challenge\n",
        "\n",
        "You will use your portfolio project dataset for all assignments this sprint. (If you haven't found a dataset yet, do that today. [Review requirements for your portfolio project](https://lambdaschool.github.io/ds/unit2) and choose your dataset.)\n",
        "\n",
        "Complete these tasks for your project, and document your decisions.\n",
        "\n",
        "- Choose your target. Which column in your tabular dataset will you predict?\n",
        "- Is your problem regression or classification?\n",
        "- How is your target distributed?\n",
        "    - Classification: How many classes? Are the classes imbalanced?\n",
        "    - Regression: Is the target right-skewed? If so, you may want to log transform the target.\n",
        "- Choose your evaluation metric(s).\n",
        "    - Classification: Is your majority class frequency >= 50% and < 70% ? If so, you can just use accuracy if you want. Outside that range, accuracy could be misleading. What evaluation metric will you choose, in addition to or instead of accuracy?\n",
        "    - Regression: Will you use mean absolute error, root mean squared error, R^2, or other regression metrics?\n",
        "- Choose which observations you will use to train, validate, and test your model.\n",
        "    - Are some observations outliers? Will you exclude them?\n",
        "    - Will you do a random split or a time-based split?\n",
        "- Begin to clean and explore your data.\n",
        "- Begin to choose which features, if any, to exclude. Would some features \"leak\" future information?\n",
        "\n",
        "Some students worry, ***what if my model isn't “good”?*** Then, [produce a detailed tribute to your wrongness. That is science!](https://twitter.com/nathanwpyle/status/1176860147223867393)"
      ]
    }
  ]
}