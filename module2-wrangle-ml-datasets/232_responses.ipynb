{
  "nbformat": 4,
  "nbformat_minor": 0,
  "metadata": {
    "kernelspec": {
      "display_name": "Python 3",
      "language": "python",
      "name": "python3"
    },
    "language_info": {
      "codemirror_mode": {
        "name": "ipython",
        "version": 3
      },
      "file_extension": ".py",
      "mimetype": "text/x-python",
      "name": "python",
      "nbconvert_exporter": "python",
      "pygments_lexer": "ipython3",
      "version": "3.7.3"
    },
    "colab": {
      "name": "DS14 SHARED - Unit 2 - Sprint 3 - Module 2 - LESSON",
      "provenance": [],
      "collapsed_sections": [],
      "toc_visible": true,
      "include_colab_link": true
    }
  },
  "cells": [
    {
      "cell_type": "markdown",
      "metadata": {
        "id": "view-in-github",
        "colab_type": "text"
      },
      "source": [
        "<a href=\"https://colab.research.google.com/github/austinlasseter/DS-Unit-2-Applied-Modeling/blob/master/module2-wrangle-ml-datasets/232_responses.ipynb\" target=\"_parent\"><img src=\"https://colab.research.google.com/assets/colab-badge.svg\" alt=\"Open In Colab\"/></a>"
      ]
    },
    {
      "cell_type": "markdown",
      "metadata": {
        "id": "pN4aJOyhQDIj"
      },
      "source": [
        "Lambda School Data Science\n",
        "\n",
        "*Unit 2, Sprint 3, Module 2*\n",
        "\n",
        "---\n"
      ]
    },
    {
      "cell_type": "markdown",
      "metadata": {
        "id": "Jk0jJuqfQDIl"
      },
      "source": [
        "# Wrangle ML datasets \n",
        "- Explore tabular data for supervised machine learning\n",
        "- Join relational data for supervised machine learning"
      ]
    },
    {
      "cell_type": "markdown",
      "metadata": {
        "id": "qwHzKv-DKzTs"
      },
      "source": [
        "### A note in preparation for Unit 3\n",
        "\n",
        "When you're doing your initial data exploration, you're educating yourself about the data, assessing data integrity, and formulating a plan of attack for your predictive model.\n",
        "\n",
        "The best answer to any of these questions may vary from dataset to dataset. *Experiment* with a simple model to help you through the exploratory data analysis phase.\n",
        "\n",
        "#### Meaningful Variation\n",
        "  - Are there any features that are simply constant or quasi-constant values? \n",
        "  - Duplicated features?\n",
        "  - Duplicated rows?\n",
        "  - Are any of your features highly correlated together?\n",
        "    - Linear models can be particularly sensitive to multi-collinearity.\n",
        "    - Larger (esp. wide) datasets tend to have redundant features.\n",
        "\n",
        "#### Categorical Encodings\n",
        "\n",
        "  - What are your high cardinality categories?\n",
        "  - Are there any rare labels that might benefit from grouping together?\n",
        "  - Are there any categories that could be transformed into a meaningful rank (custom ordinal encoding)?\n",
        "\n",
        "#### Distributions\n",
        "\n",
        "  - What are the frequencies of your categorical labels?\n",
        "  - Is your target feature normally distributed? (Assumption for linear regression model)\n",
        "\n",
        "#### Outliers\n",
        "  - How sensitive is your model type to outliers?\n",
        "    - Less sensitive models include tree-based models. \n",
        "    - Linear models, neural networks, and other distance-based models will almost always benefit from scaling.\n",
        "  - What strategy will you use to identify and handle outliers?\n",
        "\n",
        "#### Feature Selection\n",
        "\n",
        "  Why should we reduce the number of features?\n",
        "  - Reduces potential overfitting\n",
        "  - Fewer features -> easier interpretation for your stakeholders.\n",
        "  - Easier implementation and maintain by software engineers.\n",
        "  - Reduced computational resource requirement.\n",
        "\n",
        "#### Reproducibility\n",
        "\n",
        "  - Always set a random seed.\n",
        "  - Comment, comment, comment!\n",
        "  - Print out versions of your software.\n",
        "  - Implement version control for your *data* as well as your *code* (esp. with timestamps!)\n",
        "  - Wrap your code in reproducible functions / classes for modularity of steps, including feature loading, data wrangling, feature processing, etc. (i.e., *use sklearn pipelines!*)\n",
        "  - Combine your modularized functions / classes in a single, centralized pipeline to execute your modularized \n",
        "  - Print out / record your final model parameters (optimized hyperparameter values).\n",
        "  - Record other details of the model: final features passed in, transformations employed, etc.(Jupyter makes this very transparent, but long notebooks can be more confusing than long-form scripts. "
      ]
    },
    {
      "cell_type": "markdown",
      "metadata": {
        "id": "wOhZLOTuQDIm"
      },
      "source": [
        "# Explore tabular data for supervised machine learning 🍌\n",
        "\n",
        "Wrangling your dataset is often the most challenging and time-consuming part of the modeling process.\n",
        "\n",
        "In today's lesson, we’ll work with a dataset of [3 Million Instacart Orders, Open Sourced](https://tech.instacart.com/3-million-instacart-orders-open-sourced-d40d29ead6f2)!\n",
        "\n",
        "Let’s get set up:\n"
      ]
    },
    {
      "cell_type": "code",
      "metadata": {
        "id": "h4fZLV1na1i8",
        "outputId": "67ab1069-15ff-477c-dfaa-9b649ddc8b02",
        "colab": {
          "base_uri": "https://localhost:8080/",
          "height": 461
        }
      },
      "source": [
        "!wget https://www.dropbox.com/s/pofcl26lvoj6073/instacart-market-basket-analysis.zip"
      ],
      "execution_count": 1,
      "outputs": [
        {
          "output_type": "stream",
          "text": [
            "--2020-10-01 23:50:21--  https://www.dropbox.com/s/pofcl26lvoj6073/instacart-market-basket-analysis.zip\n",
            "Resolving www.dropbox.com (www.dropbox.com)... 162.125.5.1, 2620:100:601d:1::a27d:501\n",
            "Connecting to www.dropbox.com (www.dropbox.com)|162.125.5.1|:443... connected.\n",
            "HTTP request sent, awaiting response... 301 Moved Permanently\n",
            "Location: /s/raw/pofcl26lvoj6073/instacart-market-basket-analysis.zip [following]\n",
            "--2020-10-01 23:50:21--  https://www.dropbox.com/s/raw/pofcl26lvoj6073/instacart-market-basket-analysis.zip\n",
            "Reusing existing connection to www.dropbox.com:443.\n",
            "HTTP request sent, awaiting response... 302 Found\n",
            "Location: https://uc3497d6f165cdfda7aa6134476e.dl.dropboxusercontent.com/cd/0/inline/BAdQr6lNCZGGpNE4d1ZI_SQK4DuP0mFdCtkSKCF66s0znrxqSqMPm2b0D8mWXAjlFUWQY9rjvDTPrA_IYGYzvljhIsJqjbCKlCovebA5Z3k9Za80-PzIPQDLgjGvrnY12Ik/file# [following]\n",
            "--2020-10-01 23:50:22--  https://uc3497d6f165cdfda7aa6134476e.dl.dropboxusercontent.com/cd/0/inline/BAdQr6lNCZGGpNE4d1ZI_SQK4DuP0mFdCtkSKCF66s0znrxqSqMPm2b0D8mWXAjlFUWQY9rjvDTPrA_IYGYzvljhIsJqjbCKlCovebA5Z3k9Za80-PzIPQDLgjGvrnY12Ik/file\n",
            "Resolving uc3497d6f165cdfda7aa6134476e.dl.dropboxusercontent.com (uc3497d6f165cdfda7aa6134476e.dl.dropboxusercontent.com)... 162.125.9.15, 2620:100:601f:15::a27d:90f\n",
            "Connecting to uc3497d6f165cdfda7aa6134476e.dl.dropboxusercontent.com (uc3497d6f165cdfda7aa6134476e.dl.dropboxusercontent.com)|162.125.9.15|:443... connected.\n",
            "HTTP request sent, awaiting response... 302 Found\n",
            "Location: /cd/0/inline2/BAejJIFt4PHOCIxnt1JFB3P8gbVcIkvLe72O6xbaTEE-7PVo8CpsCzO3_i284ErcMq6RUefoqNnGJurSnqYUNKodXK_3fCQM1cBJjd-AAQLYL1yImmgaYd-mjIj5bn3vAIzUh0HSJAxH3Mnqw9iXI-XhFwghOisqw65flN08WFni7iefXMId8BUOMSgk8Ij5MGpJ1eaqJn7gRGUddYESIIU8_DG607iBHBq91iLBGRniqEtyoIzqtRTGGrL4dIqLdRBg_CyuA-_ngEnuYQ8bk8ZdmnnkPdxsDoBGAZEva9L39rEL0A9duIIi-2ea5B9_GpKUIweL2u2Dl_4XOF0Ab8UTRYoXxq_pQh8mcECCf2shug/file [following]\n",
            "--2020-10-01 23:50:22--  https://uc3497d6f165cdfda7aa6134476e.dl.dropboxusercontent.com/cd/0/inline2/BAejJIFt4PHOCIxnt1JFB3P8gbVcIkvLe72O6xbaTEE-7PVo8CpsCzO3_i284ErcMq6RUefoqNnGJurSnqYUNKodXK_3fCQM1cBJjd-AAQLYL1yImmgaYd-mjIj5bn3vAIzUh0HSJAxH3Mnqw9iXI-XhFwghOisqw65flN08WFni7iefXMId8BUOMSgk8Ij5MGpJ1eaqJn7gRGUddYESIIU8_DG607iBHBq91iLBGRniqEtyoIzqtRTGGrL4dIqLdRBg_CyuA-_ngEnuYQ8bk8ZdmnnkPdxsDoBGAZEva9L39rEL0A9duIIi-2ea5B9_GpKUIweL2u2Dl_4XOF0Ab8UTRYoXxq_pQh8mcECCf2shug/file\n",
            "Reusing existing connection to uc3497d6f165cdfda7aa6134476e.dl.dropboxusercontent.com:443.\n",
            "HTTP request sent, awaiting response... 200 OK\n",
            "Length: 205616541 (196M) [application/zip]\n",
            "Saving to: ‘instacart-market-basket-analysis.zip’\n",
            "\n",
            "instacart-market-ba 100%[===================>] 196.09M  56.8MB/s    in 3.5s    \n",
            "\n",
            "2020-10-01 23:50:26 (56.8 MB/s) - ‘instacart-market-basket-analysis.zip’ saved [205616541/205616541]\n",
            "\n"
          ],
          "name": "stdout"
        }
      ]
    },
    {
      "cell_type": "code",
      "metadata": {
        "id": "HzcCskBMbFNh",
        "outputId": "cfcf9c87-fe4a-4531-fc4c-989cd243aa1f",
        "colab": {
          "base_uri": "https://localhost:8080/",
          "height": 317
        }
      },
      "source": [
        "!unzip instacart-market-basket-analysis.zip"
      ],
      "execution_count": 2,
      "outputs": [
        {
          "output_type": "stream",
          "text": [
            "Archive:  instacart-market-basket-analysis.zip\n",
            "   creating: instacart-market-basket-analysis/\n",
            "  inflating: __MACOSX/._instacart-market-basket-analysis  \n",
            "  inflating: instacart-market-basket-analysis/order_products__prior.csv.zip  \n",
            "  inflating: __MACOSX/instacart-market-basket-analysis/._order_products__prior.csv.zip  \n",
            "  inflating: instacart-market-basket-analysis/.DS_Store  \n",
            "  inflating: __MACOSX/instacart-market-basket-analysis/._.DS_Store  \n",
            "  inflating: instacart-market-basket-analysis/order_products__train.csv.zip  \n",
            "  inflating: __MACOSX/instacart-market-basket-analysis/._order_products__train.csv.zip  \n",
            "  inflating: instacart-market-basket-analysis/aisles.csv.zip  \n",
            "  inflating: __MACOSX/instacart-market-basket-analysis/._aisles.csv.zip  \n",
            "  inflating: instacart-market-basket-analysis/orders.csv.zip  \n",
            "  inflating: __MACOSX/instacart-market-basket-analysis/._orders.csv.zip  \n",
            "  inflating: instacart-market-basket-analysis/departments.csv.zip  \n",
            "  inflating: __MACOSX/instacart-market-basket-analysis/._departments.csv.zip  \n",
            "  inflating: instacart-market-basket-analysis/products.csv.zip  \n",
            "  inflating: __MACOSX/instacart-market-basket-analysis/._products.csv.zip  \n"
          ],
          "name": "stdout"
        }
      ]
    },
    {
      "cell_type": "code",
      "metadata": {
        "id": "Robk29pcQDI0",
        "outputId": "a54bc570-330c-40ee-f079-06d22eb85d9d",
        "colab": {
          "base_uri": "https://localhost:8080/",
          "height": 70
        }
      },
      "source": [
        "# Change directory to where the data was uncompressed\n",
        "%cd instacart-market-basket-analysis\n",
        "import os\n",
        "print(os.getcwd())"
      ],
      "execution_count": 4,
      "outputs": [
        {
          "output_type": "stream",
          "text": [
            "[Errno 2] No such file or directory: 'instacart-market-basket-analysis'\n",
            "/content/instacart-market-basket-analysis\n",
            "/content/instacart-market-basket-analysis\n"
          ],
          "name": "stdout"
        }
      ]
    },
    {
      "cell_type": "code",
      "metadata": {
        "id": "O7z6oB2XbcFo",
        "outputId": "1a501a70-dcd6-4c12-8f6e-bd8f6b2d2186",
        "colab": {
          "base_uri": "https://localhost:8080/",
          "height": 141
        }
      },
      "source": [
        "# print files in direc\n",
        "\n",
        "os.listdir()"
      ],
      "execution_count": 5,
      "outputs": [
        {
          "output_type": "execute_result",
          "data": {
            "text/plain": [
              "['order_products__train.csv.zip',\n",
              " 'orders.csv.zip',\n",
              " 'order_products__prior.csv.zip',\n",
              " 'aisles.csv.zip',\n",
              " '.DS_Store',\n",
              " 'departments.csv.zip',\n",
              " 'products.csv.zip']"
            ]
          },
          "metadata": {
            "tags": []
          },
          "execution_count": 5
        }
      ]
    },
    {
      "cell_type": "code",
      "metadata": {
        "id": "A7U_OIvnjYzi"
      },
      "source": [
        "# unzip each of those files and move it to the current working directly\n",
        "import zipfile\n",
        "import shutil\n",
        "from glob import glob\n",
        "\n",
        "def get_those_files(filename):\n",
        "  with zipfile.ZipFile(filename+'.csv.zip','r') as zip_ref:\n",
        "      zip_ref.extractall(filename)\n",
        "  shutil.move(filename+\"/\"+filename+\".csv\", filename+\".csv\")\n",
        "\n",
        "for filename in ['aisles', 'departments', 'order_products__prior', 'order_products__train', 'orders', 'products']:\n",
        "  get_those_files(filename)\n",
        "\n",
        "# Print the csv filenames\n",
        "\n",
        "for filename in glob('*.csv'):\n",
        "  print (filename)"
      ],
      "execution_count": 10,
      "outputs": []
    },
    {
      "cell_type": "markdown",
      "metadata": {
        "id": "MEwqPF3pQDI6"
      },
      "source": [
        "### For each csv file, look at its shape & head "
      ]
    },
    {
      "cell_type": "code",
      "metadata": {
        "id": "ys-PNZlGQDI8",
        "outputId": "56993907-be94-4771-e08f-5336386c8f1a",
        "colab": {
          "base_uri": "https://localhost:8080/",
          "height": 1000
        }
      },
      "source": [
        "import pandas as pd\n",
        "from IPython.display import display\n",
        "\n",
        "\n",
        "def preview():\n",
        "  for filename in glob('*.csv'):\n",
        "    df = pd.read_csv(filename)\n",
        "    print ('\\n',filename, df.shape)\n",
        "    display(df.head())\n",
        "\n",
        "preview()"
      ],
      "execution_count": 12,
      "outputs": [
        {
          "output_type": "stream",
          "text": [
            "\n",
            " order_products__train.csv (1384617, 4)\n"
          ],
          "name": "stdout"
        },
        {
          "output_type": "display_data",
          "data": {
            "text/html": [
              "<div>\n",
              "<style scoped>\n",
              "    .dataframe tbody tr th:only-of-type {\n",
              "        vertical-align: middle;\n",
              "    }\n",
              "\n",
              "    .dataframe tbody tr th {\n",
              "        vertical-align: top;\n",
              "    }\n",
              "\n",
              "    .dataframe thead th {\n",
              "        text-align: right;\n",
              "    }\n",
              "</style>\n",
              "<table border=\"1\" class=\"dataframe\">\n",
              "  <thead>\n",
              "    <tr style=\"text-align: right;\">\n",
              "      <th></th>\n",
              "      <th>order_id</th>\n",
              "      <th>product_id</th>\n",
              "      <th>add_to_cart_order</th>\n",
              "      <th>reordered</th>\n",
              "    </tr>\n",
              "  </thead>\n",
              "  <tbody>\n",
              "    <tr>\n",
              "      <th>0</th>\n",
              "      <td>1</td>\n",
              "      <td>49302</td>\n",
              "      <td>1</td>\n",
              "      <td>1</td>\n",
              "    </tr>\n",
              "    <tr>\n",
              "      <th>1</th>\n",
              "      <td>1</td>\n",
              "      <td>11109</td>\n",
              "      <td>2</td>\n",
              "      <td>1</td>\n",
              "    </tr>\n",
              "    <tr>\n",
              "      <th>2</th>\n",
              "      <td>1</td>\n",
              "      <td>10246</td>\n",
              "      <td>3</td>\n",
              "      <td>0</td>\n",
              "    </tr>\n",
              "    <tr>\n",
              "      <th>3</th>\n",
              "      <td>1</td>\n",
              "      <td>49683</td>\n",
              "      <td>4</td>\n",
              "      <td>0</td>\n",
              "    </tr>\n",
              "    <tr>\n",
              "      <th>4</th>\n",
              "      <td>1</td>\n",
              "      <td>43633</td>\n",
              "      <td>5</td>\n",
              "      <td>1</td>\n",
              "    </tr>\n",
              "  </tbody>\n",
              "</table>\n",
              "</div>"
            ],
            "text/plain": [
              "   order_id  product_id  add_to_cart_order  reordered\n",
              "0         1       49302                  1          1\n",
              "1         1       11109                  2          1\n",
              "2         1       10246                  3          0\n",
              "3         1       49683                  4          0\n",
              "4         1       43633                  5          1"
            ]
          },
          "metadata": {
            "tags": []
          }
        },
        {
          "output_type": "stream",
          "text": [
            "\n",
            " order_products__prior.csv (32434489, 4)\n"
          ],
          "name": "stdout"
        },
        {
          "output_type": "display_data",
          "data": {
            "text/html": [
              "<div>\n",
              "<style scoped>\n",
              "    .dataframe tbody tr th:only-of-type {\n",
              "        vertical-align: middle;\n",
              "    }\n",
              "\n",
              "    .dataframe tbody tr th {\n",
              "        vertical-align: top;\n",
              "    }\n",
              "\n",
              "    .dataframe thead th {\n",
              "        text-align: right;\n",
              "    }\n",
              "</style>\n",
              "<table border=\"1\" class=\"dataframe\">\n",
              "  <thead>\n",
              "    <tr style=\"text-align: right;\">\n",
              "      <th></th>\n",
              "      <th>order_id</th>\n",
              "      <th>product_id</th>\n",
              "      <th>add_to_cart_order</th>\n",
              "      <th>reordered</th>\n",
              "    </tr>\n",
              "  </thead>\n",
              "  <tbody>\n",
              "    <tr>\n",
              "      <th>0</th>\n",
              "      <td>2</td>\n",
              "      <td>33120</td>\n",
              "      <td>1</td>\n",
              "      <td>1</td>\n",
              "    </tr>\n",
              "    <tr>\n",
              "      <th>1</th>\n",
              "      <td>2</td>\n",
              "      <td>28985</td>\n",
              "      <td>2</td>\n",
              "      <td>1</td>\n",
              "    </tr>\n",
              "    <tr>\n",
              "      <th>2</th>\n",
              "      <td>2</td>\n",
              "      <td>9327</td>\n",
              "      <td>3</td>\n",
              "      <td>0</td>\n",
              "    </tr>\n",
              "    <tr>\n",
              "      <th>3</th>\n",
              "      <td>2</td>\n",
              "      <td>45918</td>\n",
              "      <td>4</td>\n",
              "      <td>1</td>\n",
              "    </tr>\n",
              "    <tr>\n",
              "      <th>4</th>\n",
              "      <td>2</td>\n",
              "      <td>30035</td>\n",
              "      <td>5</td>\n",
              "      <td>0</td>\n",
              "    </tr>\n",
              "  </tbody>\n",
              "</table>\n",
              "</div>"
            ],
            "text/plain": [
              "   order_id  product_id  add_to_cart_order  reordered\n",
              "0         2       33120                  1          1\n",
              "1         2       28985                  2          1\n",
              "2         2        9327                  3          0\n",
              "3         2       45918                  4          1\n",
              "4         2       30035                  5          0"
            ]
          },
          "metadata": {
            "tags": []
          }
        },
        {
          "output_type": "stream",
          "text": [
            "\n",
            " orders.csv (3421083, 7)\n"
          ],
          "name": "stdout"
        },
        {
          "output_type": "display_data",
          "data": {
            "text/html": [
              "<div>\n",
              "<style scoped>\n",
              "    .dataframe tbody tr th:only-of-type {\n",
              "        vertical-align: middle;\n",
              "    }\n",
              "\n",
              "    .dataframe tbody tr th {\n",
              "        vertical-align: top;\n",
              "    }\n",
              "\n",
              "    .dataframe thead th {\n",
              "        text-align: right;\n",
              "    }\n",
              "</style>\n",
              "<table border=\"1\" class=\"dataframe\">\n",
              "  <thead>\n",
              "    <tr style=\"text-align: right;\">\n",
              "      <th></th>\n",
              "      <th>order_id</th>\n",
              "      <th>user_id</th>\n",
              "      <th>eval_set</th>\n",
              "      <th>order_number</th>\n",
              "      <th>order_dow</th>\n",
              "      <th>order_hour_of_day</th>\n",
              "      <th>days_since_prior_order</th>\n",
              "    </tr>\n",
              "  </thead>\n",
              "  <tbody>\n",
              "    <tr>\n",
              "      <th>0</th>\n",
              "      <td>2539329</td>\n",
              "      <td>1</td>\n",
              "      <td>prior</td>\n",
              "      <td>1</td>\n",
              "      <td>2</td>\n",
              "      <td>8</td>\n",
              "      <td>NaN</td>\n",
              "    </tr>\n",
              "    <tr>\n",
              "      <th>1</th>\n",
              "      <td>2398795</td>\n",
              "      <td>1</td>\n",
              "      <td>prior</td>\n",
              "      <td>2</td>\n",
              "      <td>3</td>\n",
              "      <td>7</td>\n",
              "      <td>15.0</td>\n",
              "    </tr>\n",
              "    <tr>\n",
              "      <th>2</th>\n",
              "      <td>473747</td>\n",
              "      <td>1</td>\n",
              "      <td>prior</td>\n",
              "      <td>3</td>\n",
              "      <td>3</td>\n",
              "      <td>12</td>\n",
              "      <td>21.0</td>\n",
              "    </tr>\n",
              "    <tr>\n",
              "      <th>3</th>\n",
              "      <td>2254736</td>\n",
              "      <td>1</td>\n",
              "      <td>prior</td>\n",
              "      <td>4</td>\n",
              "      <td>4</td>\n",
              "      <td>7</td>\n",
              "      <td>29.0</td>\n",
              "    </tr>\n",
              "    <tr>\n",
              "      <th>4</th>\n",
              "      <td>431534</td>\n",
              "      <td>1</td>\n",
              "      <td>prior</td>\n",
              "      <td>5</td>\n",
              "      <td>4</td>\n",
              "      <td>15</td>\n",
              "      <td>28.0</td>\n",
              "    </tr>\n",
              "  </tbody>\n",
              "</table>\n",
              "</div>"
            ],
            "text/plain": [
              "   order_id  user_id  ... order_hour_of_day  days_since_prior_order\n",
              "0   2539329        1  ...                 8                     NaN\n",
              "1   2398795        1  ...                 7                    15.0\n",
              "2    473747        1  ...                12                    21.0\n",
              "3   2254736        1  ...                 7                    29.0\n",
              "4    431534        1  ...                15                    28.0\n",
              "\n",
              "[5 rows x 7 columns]"
            ]
          },
          "metadata": {
            "tags": []
          }
        },
        {
          "output_type": "stream",
          "text": [
            "\n",
            " aisles.csv (134, 2)\n"
          ],
          "name": "stdout"
        },
        {
          "output_type": "display_data",
          "data": {
            "text/html": [
              "<div>\n",
              "<style scoped>\n",
              "    .dataframe tbody tr th:only-of-type {\n",
              "        vertical-align: middle;\n",
              "    }\n",
              "\n",
              "    .dataframe tbody tr th {\n",
              "        vertical-align: top;\n",
              "    }\n",
              "\n",
              "    .dataframe thead th {\n",
              "        text-align: right;\n",
              "    }\n",
              "</style>\n",
              "<table border=\"1\" class=\"dataframe\">\n",
              "  <thead>\n",
              "    <tr style=\"text-align: right;\">\n",
              "      <th></th>\n",
              "      <th>aisle_id</th>\n",
              "      <th>aisle</th>\n",
              "    </tr>\n",
              "  </thead>\n",
              "  <tbody>\n",
              "    <tr>\n",
              "      <th>0</th>\n",
              "      <td>1</td>\n",
              "      <td>prepared soups salads</td>\n",
              "    </tr>\n",
              "    <tr>\n",
              "      <th>1</th>\n",
              "      <td>2</td>\n",
              "      <td>specialty cheeses</td>\n",
              "    </tr>\n",
              "    <tr>\n",
              "      <th>2</th>\n",
              "      <td>3</td>\n",
              "      <td>energy granola bars</td>\n",
              "    </tr>\n",
              "    <tr>\n",
              "      <th>3</th>\n",
              "      <td>4</td>\n",
              "      <td>instant foods</td>\n",
              "    </tr>\n",
              "    <tr>\n",
              "      <th>4</th>\n",
              "      <td>5</td>\n",
              "      <td>marinades meat preparation</td>\n",
              "    </tr>\n",
              "  </tbody>\n",
              "</table>\n",
              "</div>"
            ],
            "text/plain": [
              "   aisle_id                       aisle\n",
              "0         1       prepared soups salads\n",
              "1         2           specialty cheeses\n",
              "2         3         energy granola bars\n",
              "3         4               instant foods\n",
              "4         5  marinades meat preparation"
            ]
          },
          "metadata": {
            "tags": []
          }
        },
        {
          "output_type": "stream",
          "text": [
            "\n",
            " departments.csv (21, 2)\n"
          ],
          "name": "stdout"
        },
        {
          "output_type": "display_data",
          "data": {
            "text/html": [
              "<div>\n",
              "<style scoped>\n",
              "    .dataframe tbody tr th:only-of-type {\n",
              "        vertical-align: middle;\n",
              "    }\n",
              "\n",
              "    .dataframe tbody tr th {\n",
              "        vertical-align: top;\n",
              "    }\n",
              "\n",
              "    .dataframe thead th {\n",
              "        text-align: right;\n",
              "    }\n",
              "</style>\n",
              "<table border=\"1\" class=\"dataframe\">\n",
              "  <thead>\n",
              "    <tr style=\"text-align: right;\">\n",
              "      <th></th>\n",
              "      <th>department_id</th>\n",
              "      <th>department</th>\n",
              "    </tr>\n",
              "  </thead>\n",
              "  <tbody>\n",
              "    <tr>\n",
              "      <th>0</th>\n",
              "      <td>1</td>\n",
              "      <td>frozen</td>\n",
              "    </tr>\n",
              "    <tr>\n",
              "      <th>1</th>\n",
              "      <td>2</td>\n",
              "      <td>other</td>\n",
              "    </tr>\n",
              "    <tr>\n",
              "      <th>2</th>\n",
              "      <td>3</td>\n",
              "      <td>bakery</td>\n",
              "    </tr>\n",
              "    <tr>\n",
              "      <th>3</th>\n",
              "      <td>4</td>\n",
              "      <td>produce</td>\n",
              "    </tr>\n",
              "    <tr>\n",
              "      <th>4</th>\n",
              "      <td>5</td>\n",
              "      <td>alcohol</td>\n",
              "    </tr>\n",
              "  </tbody>\n",
              "</table>\n",
              "</div>"
            ],
            "text/plain": [
              "   department_id department\n",
              "0              1     frozen\n",
              "1              2      other\n",
              "2              3     bakery\n",
              "3              4    produce\n",
              "4              5    alcohol"
            ]
          },
          "metadata": {
            "tags": []
          }
        },
        {
          "output_type": "stream",
          "text": [
            "\n",
            " products.csv (49688, 4)\n"
          ],
          "name": "stdout"
        },
        {
          "output_type": "display_data",
          "data": {
            "text/html": [
              "<div>\n",
              "<style scoped>\n",
              "    .dataframe tbody tr th:only-of-type {\n",
              "        vertical-align: middle;\n",
              "    }\n",
              "\n",
              "    .dataframe tbody tr th {\n",
              "        vertical-align: top;\n",
              "    }\n",
              "\n",
              "    .dataframe thead th {\n",
              "        text-align: right;\n",
              "    }\n",
              "</style>\n",
              "<table border=\"1\" class=\"dataframe\">\n",
              "  <thead>\n",
              "    <tr style=\"text-align: right;\">\n",
              "      <th></th>\n",
              "      <th>product_id</th>\n",
              "      <th>product_name</th>\n",
              "      <th>aisle_id</th>\n",
              "      <th>department_id</th>\n",
              "    </tr>\n",
              "  </thead>\n",
              "  <tbody>\n",
              "    <tr>\n",
              "      <th>0</th>\n",
              "      <td>1</td>\n",
              "      <td>Chocolate Sandwich Cookies</td>\n",
              "      <td>61</td>\n",
              "      <td>19</td>\n",
              "    </tr>\n",
              "    <tr>\n",
              "      <th>1</th>\n",
              "      <td>2</td>\n",
              "      <td>All-Seasons Salt</td>\n",
              "      <td>104</td>\n",
              "      <td>13</td>\n",
              "    </tr>\n",
              "    <tr>\n",
              "      <th>2</th>\n",
              "      <td>3</td>\n",
              "      <td>Robust Golden Unsweetened Oolong Tea</td>\n",
              "      <td>94</td>\n",
              "      <td>7</td>\n",
              "    </tr>\n",
              "    <tr>\n",
              "      <th>3</th>\n",
              "      <td>4</td>\n",
              "      <td>Smart Ones Classic Favorites Mini Rigatoni Wit...</td>\n",
              "      <td>38</td>\n",
              "      <td>1</td>\n",
              "    </tr>\n",
              "    <tr>\n",
              "      <th>4</th>\n",
              "      <td>5</td>\n",
              "      <td>Green Chile Anytime Sauce</td>\n",
              "      <td>5</td>\n",
              "      <td>13</td>\n",
              "    </tr>\n",
              "  </tbody>\n",
              "</table>\n",
              "</div>"
            ],
            "text/plain": [
              "   product_id  ... department_id\n",
              "0           1  ...            19\n",
              "1           2  ...            13\n",
              "2           3  ...             7\n",
              "3           4  ...             1\n",
              "4           5  ...            13\n",
              "\n",
              "[5 rows x 4 columns]"
            ]
          },
          "metadata": {
            "tags": []
          }
        }
      ]
    },
    {
      "cell_type": "markdown",
      "metadata": {
        "id": "UWVkKNtJQDJB"
      },
      "source": [
        "## The original task was complex ...\n",
        "\n",
        "[The Kaggle competition said,](https://www.kaggle.com/c/instacart-market-basket-analysis/data):\n",
        "\n",
        "> The dataset for this competition is a relational set of files describing customers' orders over time. The goal of the competition is to predict which products will be in a user's next order.\n",
        "\n",
        "> orders.csv: This file tells to which set (prior, train, test) an order belongs. You are predicting reordered items only for the test set orders.\n",
        "\n",
        "Each row in the submission is an order_id from the test set, followed by product_id(s) predicted to be reordered.\n",
        "\n",
        "> sample_submission.csv: \n",
        "```\n",
        "order_id,products\n",
        "17,39276 29259\n",
        "34,39276 29259\n",
        "137,39276 29259\n",
        "182,39276 29259\n",
        "257,39276 29259\n",
        "```"
      ]
    },
    {
      "cell_type": "markdown",
      "metadata": {
        "id": "3Rzx9gZIQDJC"
      },
      "source": [
        "## ... but we can simplify!\n",
        "\n",
        "Simplify the question, from \"Which products will be reordered?\" (Multi-class, [multi-label](https://en.wikipedia.org/wiki/Multi-label_classification) classification) to **\"Will customers reorder this one product?\"** (Binary classification)\n",
        "\n",
        "Which product? How about **the most frequently ordered product?**"
      ]
    },
    {
      "cell_type": "markdown",
      "metadata": {
        "id": "Nc3x3gbAQDJD"
      },
      "source": [
        "# Questions:\n",
        "\n",
        "- What is the most frequently ordered product?\n",
        "- How often is this product included in a customer's next order?\n",
        "- Which customers have ordered this product before?\n",
        "- How can we get a subset of data, just for these customers?\n",
        "- What features can we engineer? We want to predict, will these customers reorder this product on their next order?"
      ]
    },
    {
      "cell_type": "markdown",
      "metadata": {
        "id": "JghGxivqQDJE"
      },
      "source": [
        "## What was the most frequently ordered product?"
      ]
    },
    {
      "cell_type": "code",
      "metadata": {
        "id": "KROfJYvNzQEr"
      },
      "source": [
        ""
      ],
      "execution_count": null,
      "outputs": []
    },
    {
      "cell_type": "code",
      "metadata": {
        "id": "-OjHxuRMQDJF"
      },
      "source": [
        "order_products__train = pd.read_csv('order_products__train.csv')"
      ],
      "execution_count": null,
      "outputs": []
    },
    {
      "cell_type": "code",
      "metadata": {
        "id": "_p8855kYZp1a",
        "outputId": "4df2ff01-5801-4e65-f41b-484b0643a995",
        "colab": {
          "base_uri": "https://localhost:8080/",
          "height": 221
        }
      },
      "source": [
        "order_products__train['product_id'].value_counts()"
      ],
      "execution_count": null,
      "outputs": [
        {
          "output_type": "execute_result",
          "data": {
            "text/plain": [
              "24852    18726\n",
              "13176    15480\n",
              "21137    10894\n",
              "21903     9784\n",
              "47626     8135\n",
              "         ...  \n",
              "44256        1\n",
              "2764         1\n",
              "4815         1\n",
              "43736        1\n",
              "46835        1\n",
              "Name: product_id, Length: 39123, dtype: int64"
            ]
          },
          "metadata": {
            "tags": []
          },
          "execution_count": 43
        }
      ]
    },
    {
      "cell_type": "code",
      "metadata": {
        "id": "QiYpdllZabRy",
        "outputId": "85960d4a-c5c3-400b-a058-62a9dd69fbde",
        "colab": {
          "base_uri": "https://localhost:8080/",
          "height": 34
        }
      },
      "source": [
        "temp = order_products__train.sort_values(by='product_id', ascending=False).head()\n",
        "temp\n",
        "temp.shape"
      ],
      "execution_count": null,
      "outputs": [
        {
          "output_type": "execute_result",
          "data": {
            "text/plain": [
              "(5, 4)"
            ]
          },
          "metadata": {
            "tags": []
          },
          "execution_count": 44
        }
      ]
    },
    {
      "cell_type": "code",
      "metadata": {
        "id": "ZJu5JF9lnd63",
        "outputId": "945cc7d3-4238-4f40-9e80-74a77d75505d",
        "colab": {
          "base_uri": "https://localhost:8080/",
          "height": 34
        }
      },
      "source": [
        "order_products__train.shape"
      ],
      "execution_count": null,
      "outputs": [
        {
          "output_type": "execute_result",
          "data": {
            "text/plain": [
              "(1384617, 4)"
            ]
          },
          "metadata": {
            "tags": []
          },
          "execution_count": 45
        }
      ]
    },
    {
      "cell_type": "code",
      "metadata": {
        "id": "6J5JCvM1baj7",
        "outputId": "a22c3d7d-3162-4e33-f6a3-44b884e64959",
        "colab": {
          "base_uri": "https://localhost:8080/",
          "height": 34
        }
      },
      "source": [
        "products = pd.read_csv(\"products.csv\")\n",
        "products.head()\n",
        "products.shape"
      ],
      "execution_count": null,
      "outputs": [
        {
          "output_type": "execute_result",
          "data": {
            "text/plain": [
              "(49688, 4)"
            ]
          },
          "metadata": {
            "tags": []
          },
          "execution_count": 46
        }
      ]
    },
    {
      "cell_type": "code",
      "metadata": {
        "id": "7Bn2ua3PaRfj"
      },
      "source": [
        "train = pd.merge(order_products__train, products, how='inner', left_on='product_id', right_on='product_id')"
      ],
      "execution_count": null,
      "outputs": []
    },
    {
      "cell_type": "code",
      "metadata": {
        "id": "pIp6poxJcXQ5",
        "outputId": "415fd933-0243-4f63-d634-c8f7c5a86a18",
        "colab": {
          "base_uri": "https://localhost:8080/",
          "height": 221
        }
      },
      "source": [
        "train['product_name'].value_counts()"
      ],
      "execution_count": null,
      "outputs": [
        {
          "output_type": "execute_result",
          "data": {
            "text/plain": [
              "Banana                                    18726\n",
              "Bag of Organic Bananas                    15480\n",
              "Organic Strawberries                      10894\n",
              "Organic Baby Spinach                       9784\n",
              "Large Lemon                                8135\n",
              "                                          ...  \n",
              "Organic Maple Sugar                           1\n",
              "Dark Chocolate Bar 68% Cacao                  1\n",
              "Home Menu Signature Pork Dumplings            1\n",
              "Organic French Roast Whole Bean Coffee        1\n",
              "Organic Sprouted Wheat Flour                  1\n",
              "Name: product_name, Length: 39123, dtype: int64"
            ]
          },
          "metadata": {
            "tags": []
          },
          "execution_count": 48
        }
      ]
    },
    {
      "cell_type": "code",
      "metadata": {
        "id": "Jh2VrPEifkFe"
      },
      "source": [
        ""
      ],
      "execution_count": null,
      "outputs": []
    },
    {
      "cell_type": "code",
      "metadata": {
        "id": "DNFHMhFAgglL"
      },
      "source": [
        ""
      ],
      "execution_count": null,
      "outputs": []
    },
    {
      "cell_type": "code",
      "metadata": {
        "id": "pwLgJ14tgMqE"
      },
      "source": [
        ""
      ],
      "execution_count": null,
      "outputs": []
    },
    {
      "cell_type": "code",
      "metadata": {
        "id": "PCySNUZMhSIh"
      },
      "source": [
        ""
      ],
      "execution_count": null,
      "outputs": []
    },
    {
      "cell_type": "markdown",
      "metadata": {
        "id": "e72NUm8dQDJJ"
      },
      "source": [
        "[link text](https://)## How often is this product included in a customer's next order?\n",
        "\n",
        "There are [three sets of data](https://gist.github.com/jeremystan/c3b39d947d9b88b3ccff3147dbcf6c6b):\n",
        "\n",
        "> \"prior\": orders prior to that users most recent order (3.2m orders)  \n",
        "\"train\": training data supplied to participants (131k orders)  \n",
        "\"test\": test data reserved for machine learning competitions (75k orders)\n",
        "\n",
        "Customers' next orders are in the \"train\" and \"test\" sets. (The \"prior\" set has the orders prior to the most recent orders.)\n",
        "\n",
        "We can't use the \"test\" set here, because we don't have its labels (only Kaggle & Instacart have them), so we don't know what products were bought in the \"test\" set orders.\n",
        "\n",
        "So, we'll use the \"train\" set. It currently has one row per product_id and multiple rows per order_id.\n",
        "\n",
        "But we don't want that. Instead we want one row per order_id, with a binary column: \"Did the order include the product?\"\n",
        "\n",
        "Let's wrangle!"
      ]
    },
    {
      "cell_type": "code",
      "metadata": {
        "id": "mfMIx7NpQDJK",
        "outputId": "7f6bffb6-4e93-4daf-f6c0-59a48305a295",
        "colab": {
          "base_uri": "https://localhost:8080/",
          "height": 309
        }
      },
      "source": [
        "train.head()\n"
      ],
      "execution_count": null,
      "outputs": [
        {
          "output_type": "execute_result",
          "data": {
            "text/html": [
              "<div>\n",
              "<style scoped>\n",
              "    .dataframe tbody tr th:only-of-type {\n",
              "        vertical-align: middle;\n",
              "    }\n",
              "\n",
              "    .dataframe tbody tr th {\n",
              "        vertical-align: top;\n",
              "    }\n",
              "\n",
              "    .dataframe thead th {\n",
              "        text-align: right;\n",
              "    }\n",
              "</style>\n",
              "<table border=\"1\" class=\"dataframe\">\n",
              "  <thead>\n",
              "    <tr style=\"text-align: right;\">\n",
              "      <th></th>\n",
              "      <th>order_id</th>\n",
              "      <th>product_id</th>\n",
              "      <th>add_to_cart_order</th>\n",
              "      <th>reordered</th>\n",
              "      <th>product_name</th>\n",
              "      <th>aisle_id</th>\n",
              "      <th>department_id</th>\n",
              "    </tr>\n",
              "  </thead>\n",
              "  <tbody>\n",
              "    <tr>\n",
              "      <th>0</th>\n",
              "      <td>1</td>\n",
              "      <td>49302</td>\n",
              "      <td>1</td>\n",
              "      <td>1</td>\n",
              "      <td>Bulgarian Yogurt</td>\n",
              "      <td>120</td>\n",
              "      <td>16</td>\n",
              "    </tr>\n",
              "    <tr>\n",
              "      <th>1</th>\n",
              "      <td>816049</td>\n",
              "      <td>49302</td>\n",
              "      <td>7</td>\n",
              "      <td>1</td>\n",
              "      <td>Bulgarian Yogurt</td>\n",
              "      <td>120</td>\n",
              "      <td>16</td>\n",
              "    </tr>\n",
              "    <tr>\n",
              "      <th>2</th>\n",
              "      <td>1242203</td>\n",
              "      <td>49302</td>\n",
              "      <td>1</td>\n",
              "      <td>1</td>\n",
              "      <td>Bulgarian Yogurt</td>\n",
              "      <td>120</td>\n",
              "      <td>16</td>\n",
              "    </tr>\n",
              "    <tr>\n",
              "      <th>3</th>\n",
              "      <td>1383349</td>\n",
              "      <td>49302</td>\n",
              "      <td>11</td>\n",
              "      <td>1</td>\n",
              "      <td>Bulgarian Yogurt</td>\n",
              "      <td>120</td>\n",
              "      <td>16</td>\n",
              "    </tr>\n",
              "    <tr>\n",
              "      <th>4</th>\n",
              "      <td>1787378</td>\n",
              "      <td>49302</td>\n",
              "      <td>8</td>\n",
              "      <td>0</td>\n",
              "      <td>Bulgarian Yogurt</td>\n",
              "      <td>120</td>\n",
              "      <td>16</td>\n",
              "    </tr>\n",
              "  </tbody>\n",
              "</table>\n",
              "</div>"
            ],
            "text/plain": [
              "   order_id  product_id  ...  aisle_id  department_id\n",
              "0         1       49302  ...       120             16\n",
              "1    816049       49302  ...       120             16\n",
              "2   1242203       49302  ...       120             16\n",
              "3   1383349       49302  ...       120             16\n",
              "4   1787378       49302  ...       120             16\n",
              "\n",
              "[5 rows x 7 columns]"
            ]
          },
          "metadata": {
            "tags": []
          },
          "execution_count": 49
        }
      ]
    },
    {
      "cell_type": "code",
      "metadata": {
        "id": "bs1Xq4G1jOMF"
      },
      "source": [
        "train['bananas'] = train['product_name'] == 'Banana'"
      ],
      "execution_count": null,
      "outputs": []
    },
    {
      "cell_type": "code",
      "metadata": {
        "id": "14H2dq9Mi89P"
      },
      "source": [
        "\n",
        "# Of banana orders, how many are re-orders?\n",
        "# bananas = train[train['product_name'] == 'Banana']\n",
        "# bananas['reordered'].value_counts(normalize=True)"
      ],
      "execution_count": null,
      "outputs": []
    },
    {
      "cell_type": "code",
      "metadata": {
        "id": "nd_W5LG8qydY",
        "outputId": "178a28a5-836c-42d0-a2a2-b1638de84343",
        "colab": {
          "base_uri": "https://localhost:8080/",
          "height": 68
        }
      },
      "source": [
        "# How often is this product (i.e., bananas) included in the customer's next order?\n",
        "train['bananas'].value_counts(normalize=True)"
      ],
      "execution_count": null,
      "outputs": [
        {
          "output_type": "execute_result",
          "data": {
            "text/plain": [
              "False    0.986476\n",
              "True     0.013524\n",
              "Name: bananas, dtype: float64"
            ]
          },
          "metadata": {
            "tags": []
          },
          "execution_count": 52
        }
      ]
    },
    {
      "cell_type": "code",
      "metadata": {
        "id": "5vILTB8Jjf-O",
        "outputId": "1c2e3bd0-63a0-4910-a6f7-01e66fdace26",
        "colab": {
          "base_uri": "https://localhost:8080/",
          "height": 419
        }
      },
      "source": [
        "# How often is this product (i.e., bananas) included in the customer's next order?\n",
        "\n",
        "train_wrangled = train.groupby('order_id')['bananas'].any().reset_index()\n",
        "train_wrangled"
      ],
      "execution_count": null,
      "outputs": [
        {
          "output_type": "execute_result",
          "data": {
            "text/html": [
              "<div>\n",
              "<style scoped>\n",
              "    .dataframe tbody tr th:only-of-type {\n",
              "        vertical-align: middle;\n",
              "    }\n",
              "\n",
              "    .dataframe tbody tr th {\n",
              "        vertical-align: top;\n",
              "    }\n",
              "\n",
              "    .dataframe thead th {\n",
              "        text-align: right;\n",
              "    }\n",
              "</style>\n",
              "<table border=\"1\" class=\"dataframe\">\n",
              "  <thead>\n",
              "    <tr style=\"text-align: right;\">\n",
              "      <th></th>\n",
              "      <th>order_id</th>\n",
              "      <th>bananas</th>\n",
              "    </tr>\n",
              "  </thead>\n",
              "  <tbody>\n",
              "    <tr>\n",
              "      <th>0</th>\n",
              "      <td>1</td>\n",
              "      <td>False</td>\n",
              "    </tr>\n",
              "    <tr>\n",
              "      <th>1</th>\n",
              "      <td>36</td>\n",
              "      <td>False</td>\n",
              "    </tr>\n",
              "    <tr>\n",
              "      <th>2</th>\n",
              "      <td>38</td>\n",
              "      <td>False</td>\n",
              "    </tr>\n",
              "    <tr>\n",
              "      <th>3</th>\n",
              "      <td>96</td>\n",
              "      <td>False</td>\n",
              "    </tr>\n",
              "    <tr>\n",
              "      <th>4</th>\n",
              "      <td>98</td>\n",
              "      <td>False</td>\n",
              "    </tr>\n",
              "    <tr>\n",
              "      <th>...</th>\n",
              "      <td>...</td>\n",
              "      <td>...</td>\n",
              "    </tr>\n",
              "    <tr>\n",
              "      <th>131204</th>\n",
              "      <td>3421049</td>\n",
              "      <td>False</td>\n",
              "    </tr>\n",
              "    <tr>\n",
              "      <th>131205</th>\n",
              "      <td>3421056</td>\n",
              "      <td>False</td>\n",
              "    </tr>\n",
              "    <tr>\n",
              "      <th>131206</th>\n",
              "      <td>3421058</td>\n",
              "      <td>False</td>\n",
              "    </tr>\n",
              "    <tr>\n",
              "      <th>131207</th>\n",
              "      <td>3421063</td>\n",
              "      <td>False</td>\n",
              "    </tr>\n",
              "    <tr>\n",
              "      <th>131208</th>\n",
              "      <td>3421070</td>\n",
              "      <td>False</td>\n",
              "    </tr>\n",
              "  </tbody>\n",
              "</table>\n",
              "<p>131209 rows × 2 columns</p>\n",
              "</div>"
            ],
            "text/plain": [
              "        order_id  bananas\n",
              "0              1    False\n",
              "1             36    False\n",
              "2             38    False\n",
              "3             96    False\n",
              "4             98    False\n",
              "...          ...      ...\n",
              "131204   3421049    False\n",
              "131205   3421056    False\n",
              "131206   3421058    False\n",
              "131207   3421063    False\n",
              "131208   3421070    False\n",
              "\n",
              "[131209 rows x 2 columns]"
            ]
          },
          "metadata": {
            "tags": []
          },
          "execution_count": 53
        }
      ]
    },
    {
      "cell_type": "code",
      "metadata": {
        "id": "pe6UFJXd0GUz"
      },
      "source": [
        "# orders.head()\n",
        "orders = orders.loc[orders['days_since_prior_order'] != 0]\n"
      ],
      "execution_count": null,
      "outputs": []
    },
    {
      "cell_type": "code",
      "metadata": {
        "id": "XR81h7B7yiFq"
      },
      "source": [
        "# train2 = pd.merge(train, orders, how='inner', left_on='order_id', right_on='order_id')\n",
        "# train2['order_hour_of_day'].value_counts(normalize=True)"
      ],
      "execution_count": null,
      "outputs": []
    },
    {
      "cell_type": "code",
      "metadata": {
        "id": "HbH62GECrkWS",
        "outputId": "6ebb742a-46df-49f1-840d-b8fd955badcb",
        "colab": {
          "base_uri": "https://localhost:8080/",
          "height": 68
        }
      },
      "source": [
        "train_wrangled['bananas'].value_counts(normalize=True)"
      ],
      "execution_count": null,
      "outputs": [
        {
          "output_type": "execute_result",
          "data": {
            "text/plain": [
              "False    0.857281\n",
              "True     0.142719\n",
              "Name: bananas, dtype: float64"
            ]
          },
          "metadata": {
            "tags": []
          },
          "execution_count": 55
        }
      ]
    },
    {
      "cell_type": "code",
      "metadata": {
        "id": "M5GXbleZlUMH",
        "outputId": "fd6cbb77-2572-4aac-a173-04c7aabf0178",
        "colab": {
          "base_uri": "https://localhost:8080/",
          "height": 439
        }
      },
      "source": [
        "# What is the most common hour of the day that bananas are ordered?\n",
        "# What is the most common hour of the day for any food orders?\n",
        "\n",
        "import numpy as np\n",
        "\n",
        "train[train['bananas']]"
      ],
      "execution_count": null,
      "outputs": [
        {
          "output_type": "execute_result",
          "data": {
            "text/html": [
              "<div>\n",
              "<style scoped>\n",
              "    .dataframe tbody tr th:only-of-type {\n",
              "        vertical-align: middle;\n",
              "    }\n",
              "\n",
              "    .dataframe tbody tr th {\n",
              "        vertical-align: top;\n",
              "    }\n",
              "\n",
              "    .dataframe thead th {\n",
              "        text-align: right;\n",
              "    }\n",
              "</style>\n",
              "<table border=\"1\" class=\"dataframe\">\n",
              "  <thead>\n",
              "    <tr style=\"text-align: right;\">\n",
              "      <th></th>\n",
              "      <th>order_id</th>\n",
              "      <th>product_id</th>\n",
              "      <th>add_to_cart_order</th>\n",
              "      <th>reordered</th>\n",
              "      <th>product_name</th>\n",
              "      <th>aisle_id</th>\n",
              "      <th>department_id</th>\n",
              "      <th>bananas</th>\n",
              "    </tr>\n",
              "  </thead>\n",
              "  <tbody>\n",
              "    <tr>\n",
              "      <th>129688</th>\n",
              "      <td>226</td>\n",
              "      <td>24852</td>\n",
              "      <td>2</td>\n",
              "      <td>0</td>\n",
              "      <td>Banana</td>\n",
              "      <td>24</td>\n",
              "      <td>4</td>\n",
              "      <td>True</td>\n",
              "    </tr>\n",
              "    <tr>\n",
              "      <th>129689</th>\n",
              "      <td>473</td>\n",
              "      <td>24852</td>\n",
              "      <td>2</td>\n",
              "      <td>0</td>\n",
              "      <td>Banana</td>\n",
              "      <td>24</td>\n",
              "      <td>4</td>\n",
              "      <td>True</td>\n",
              "    </tr>\n",
              "    <tr>\n",
              "      <th>129690</th>\n",
              "      <td>878</td>\n",
              "      <td>24852</td>\n",
              "      <td>2</td>\n",
              "      <td>1</td>\n",
              "      <td>Banana</td>\n",
              "      <td>24</td>\n",
              "      <td>4</td>\n",
              "      <td>True</td>\n",
              "    </tr>\n",
              "    <tr>\n",
              "      <th>129691</th>\n",
              "      <td>1042</td>\n",
              "      <td>24852</td>\n",
              "      <td>1</td>\n",
              "      <td>1</td>\n",
              "      <td>Banana</td>\n",
              "      <td>24</td>\n",
              "      <td>4</td>\n",
              "      <td>True</td>\n",
              "    </tr>\n",
              "    <tr>\n",
              "      <th>129692</th>\n",
              "      <td>1139</td>\n",
              "      <td>24852</td>\n",
              "      <td>1</td>\n",
              "      <td>1</td>\n",
              "      <td>Banana</td>\n",
              "      <td>24</td>\n",
              "      <td>4</td>\n",
              "      <td>True</td>\n",
              "    </tr>\n",
              "    <tr>\n",
              "      <th>...</th>\n",
              "      <td>...</td>\n",
              "      <td>...</td>\n",
              "      <td>...</td>\n",
              "      <td>...</td>\n",
              "      <td>...</td>\n",
              "      <td>...</td>\n",
              "      <td>...</td>\n",
              "      <td>...</td>\n",
              "    </tr>\n",
              "    <tr>\n",
              "      <th>148409</th>\n",
              "      <td>3419531</td>\n",
              "      <td>24852</td>\n",
              "      <td>2</td>\n",
              "      <td>1</td>\n",
              "      <td>Banana</td>\n",
              "      <td>24</td>\n",
              "      <td>4</td>\n",
              "      <td>True</td>\n",
              "    </tr>\n",
              "    <tr>\n",
              "      <th>148410</th>\n",
              "      <td>3419542</td>\n",
              "      <td>24852</td>\n",
              "      <td>6</td>\n",
              "      <td>0</td>\n",
              "      <td>Banana</td>\n",
              "      <td>24</td>\n",
              "      <td>4</td>\n",
              "      <td>True</td>\n",
              "    </tr>\n",
              "    <tr>\n",
              "      <th>148411</th>\n",
              "      <td>3419629</td>\n",
              "      <td>24852</td>\n",
              "      <td>5</td>\n",
              "      <td>1</td>\n",
              "      <td>Banana</td>\n",
              "      <td>24</td>\n",
              "      <td>4</td>\n",
              "      <td>True</td>\n",
              "    </tr>\n",
              "    <tr>\n",
              "      <th>148412</th>\n",
              "      <td>3420088</td>\n",
              "      <td>24852</td>\n",
              "      <td>9</td>\n",
              "      <td>1</td>\n",
              "      <td>Banana</td>\n",
              "      <td>24</td>\n",
              "      <td>4</td>\n",
              "      <td>True</td>\n",
              "    </tr>\n",
              "    <tr>\n",
              "      <th>148413</th>\n",
              "      <td>3420996</td>\n",
              "      <td>24852</td>\n",
              "      <td>1</td>\n",
              "      <td>1</td>\n",
              "      <td>Banana</td>\n",
              "      <td>24</td>\n",
              "      <td>4</td>\n",
              "      <td>True</td>\n",
              "    </tr>\n",
              "  </tbody>\n",
              "</table>\n",
              "<p>18726 rows × 8 columns</p>\n",
              "</div>"
            ],
            "text/plain": [
              "        order_id  product_id  ...  department_id  bananas\n",
              "129688       226       24852  ...              4     True\n",
              "129689       473       24852  ...              4     True\n",
              "129690       878       24852  ...              4     True\n",
              "129691      1042       24852  ...              4     True\n",
              "129692      1139       24852  ...              4     True\n",
              "...          ...         ...  ...            ...      ...\n",
              "148409   3419531       24852  ...              4     True\n",
              "148410   3419542       24852  ...              4     True\n",
              "148411   3419629       24852  ...              4     True\n",
              "148412   3420088       24852  ...              4     True\n",
              "148413   3420996       24852  ...              4     True\n",
              "\n",
              "[18726 rows x 8 columns]"
            ]
          },
          "metadata": {
            "tags": []
          },
          "execution_count": 56
        }
      ]
    },
    {
      "cell_type": "markdown",
      "metadata": {
        "id": "eg3k636ARqpo"
      },
      "source": [
        "# Join relational data for supervised machine learning"
      ]
    },
    {
      "cell_type": "markdown",
      "metadata": {
        "id": "Kdw-LAcNRtGV"
      },
      "source": [
        "## Overview\n",
        "Often, you’ll need to join data from multiple relational tables before you’re ready to fit your models."
      ]
    },
    {
      "cell_type": "markdown",
      "metadata": {
        "id": "F3in937fQDJO"
      },
      "source": [
        "## Which customers have ordered bananas before?\n",
        "\n",
        "- Customers are identified by `user_id`\n",
        "- Products are identified by `product_id`\n",
        "\n",
        "Do we have a table with both these id's? \n",
        "\n",
        "(If not, how can we combine this information?)\n",
        "\n",
        "No, we don't have a table with both these id's. But:\n",
        "- `orders.csv` has `user_id` and `order_id`\n",
        "- `order_products__prior.csv` has `order_id` and `product_id`\n",
        "- `order_products__train.csv` has `order_id` and `product_id` too\n",
        "\n"
      ]
    },
    {
      "cell_type": "code",
      "metadata": {
        "id": "Mg48ZAavQDJP"
      },
      "source": [
        "banana_order_ids = train[train.bananas==True].order_id"
      ],
      "execution_count": null,
      "outputs": []
    },
    {
      "cell_type": "code",
      "metadata": {
        "id": "dDCoHOFlnVmB",
        "outputId": "6f60f908-8b63-40ca-bcaa-cad735553bda",
        "colab": {
          "base_uri": "https://localhost:8080/",
          "height": 224
        }
      },
      "source": [
        "orders = pd.read_csv(\"orders.csv\")\n",
        "orders.head()"
      ],
      "execution_count": null,
      "outputs": [
        {
          "output_type": "execute_result",
          "data": {
            "text/html": [
              "<div>\n",
              "<style scoped>\n",
              "    .dataframe tbody tr th:only-of-type {\n",
              "        vertical-align: middle;\n",
              "    }\n",
              "\n",
              "    .dataframe tbody tr th {\n",
              "        vertical-align: top;\n",
              "    }\n",
              "\n",
              "    .dataframe thead th {\n",
              "        text-align: right;\n",
              "    }\n",
              "</style>\n",
              "<table border=\"1\" class=\"dataframe\">\n",
              "  <thead>\n",
              "    <tr style=\"text-align: right;\">\n",
              "      <th></th>\n",
              "      <th>order_id</th>\n",
              "      <th>user_id</th>\n",
              "      <th>eval_set</th>\n",
              "      <th>order_number</th>\n",
              "      <th>order_dow</th>\n",
              "      <th>order_hour_of_day</th>\n",
              "      <th>days_since_prior_order</th>\n",
              "    </tr>\n",
              "  </thead>\n",
              "  <tbody>\n",
              "    <tr>\n",
              "      <th>0</th>\n",
              "      <td>2539329</td>\n",
              "      <td>1</td>\n",
              "      <td>prior</td>\n",
              "      <td>1</td>\n",
              "      <td>2</td>\n",
              "      <td>8</td>\n",
              "      <td>NaN</td>\n",
              "    </tr>\n",
              "    <tr>\n",
              "      <th>1</th>\n",
              "      <td>2398795</td>\n",
              "      <td>1</td>\n",
              "      <td>prior</td>\n",
              "      <td>2</td>\n",
              "      <td>3</td>\n",
              "      <td>7</td>\n",
              "      <td>15.0</td>\n",
              "    </tr>\n",
              "    <tr>\n",
              "      <th>2</th>\n",
              "      <td>473747</td>\n",
              "      <td>1</td>\n",
              "      <td>prior</td>\n",
              "      <td>3</td>\n",
              "      <td>3</td>\n",
              "      <td>12</td>\n",
              "      <td>21.0</td>\n",
              "    </tr>\n",
              "    <tr>\n",
              "      <th>3</th>\n",
              "      <td>2254736</td>\n",
              "      <td>1</td>\n",
              "      <td>prior</td>\n",
              "      <td>4</td>\n",
              "      <td>4</td>\n",
              "      <td>7</td>\n",
              "      <td>29.0</td>\n",
              "    </tr>\n",
              "    <tr>\n",
              "      <th>4</th>\n",
              "      <td>431534</td>\n",
              "      <td>1</td>\n",
              "      <td>prior</td>\n",
              "      <td>5</td>\n",
              "      <td>4</td>\n",
              "      <td>15</td>\n",
              "      <td>28.0</td>\n",
              "    </tr>\n",
              "  </tbody>\n",
              "</table>\n",
              "</div>"
            ],
            "text/plain": [
              "   order_id  user_id  ... order_hour_of_day  days_since_prior_order\n",
              "0   2539329        1  ...                 8                     NaN\n",
              "1   2398795        1  ...                 7                    15.0\n",
              "2    473747        1  ...                12                    21.0\n",
              "3   2254736        1  ...                 7                    29.0\n",
              "4    431534        1  ...                15                    28.0\n",
              "\n",
              "[5 rows x 7 columns]"
            ]
          },
          "metadata": {
            "tags": []
          },
          "execution_count": 58
        }
      ]
    },
    {
      "cell_type": "code",
      "metadata": {
        "id": "g8SZcpTBoFYT",
        "outputId": "f72af227-4f04-4d9d-f88d-37be44d90807",
        "colab": {
          "base_uri": "https://localhost:8080/",
          "height": 439
        }
      },
      "source": [
        "orders[orders.order_id.isin(banana_order_ids)]"
      ],
      "execution_count": null,
      "outputs": [
        {
          "output_type": "execute_result",
          "data": {
            "text/html": [
              "<div>\n",
              "<style scoped>\n",
              "    .dataframe tbody tr th:only-of-type {\n",
              "        vertical-align: middle;\n",
              "    }\n",
              "\n",
              "    .dataframe tbody tr th {\n",
              "        vertical-align: top;\n",
              "    }\n",
              "\n",
              "    .dataframe thead th {\n",
              "        text-align: right;\n",
              "    }\n",
              "</style>\n",
              "<table border=\"1\" class=\"dataframe\">\n",
              "  <thead>\n",
              "    <tr style=\"text-align: right;\">\n",
              "      <th></th>\n",
              "      <th>order_id</th>\n",
              "      <th>user_id</th>\n",
              "      <th>eval_set</th>\n",
              "      <th>order_number</th>\n",
              "      <th>order_dow</th>\n",
              "      <th>order_hour_of_day</th>\n",
              "      <th>days_since_prior_order</th>\n",
              "    </tr>\n",
              "  </thead>\n",
              "  <tbody>\n",
              "    <tr>\n",
              "      <th>25</th>\n",
              "      <td>1492625</td>\n",
              "      <td>2</td>\n",
              "      <td>train</td>\n",
              "      <td>15</td>\n",
              "      <td>1</td>\n",
              "      <td>11</td>\n",
              "      <td>30.0</td>\n",
              "    </tr>\n",
              "    <tr>\n",
              "      <th>485</th>\n",
              "      <td>698604</td>\n",
              "      <td>34</td>\n",
              "      <td>train</td>\n",
              "      <td>6</td>\n",
              "      <td>4</td>\n",
              "      <td>13</td>\n",
              "      <td>30.0</td>\n",
              "    </tr>\n",
              "    <tr>\n",
              "      <th>623</th>\n",
              "      <td>1864787</td>\n",
              "      <td>43</td>\n",
              "      <td>train</td>\n",
              "      <td>12</td>\n",
              "      <td>5</td>\n",
              "      <td>11</td>\n",
              "      <td>26.0</td>\n",
              "    </tr>\n",
              "    <tr>\n",
              "      <th>652</th>\n",
              "      <td>1947848</td>\n",
              "      <td>46</td>\n",
              "      <td>train</td>\n",
              "      <td>20</td>\n",
              "      <td>4</td>\n",
              "      <td>20</td>\n",
              "      <td>11.0</td>\n",
              "    </tr>\n",
              "    <tr>\n",
              "      <th>881</th>\n",
              "      <td>13318</td>\n",
              "      <td>56</td>\n",
              "      <td>train</td>\n",
              "      <td>13</td>\n",
              "      <td>1</td>\n",
              "      <td>9</td>\n",
              "      <td>6.0</td>\n",
              "    </tr>\n",
              "    <tr>\n",
              "      <th>...</th>\n",
              "      <td>...</td>\n",
              "      <td>...</td>\n",
              "      <td>...</td>\n",
              "      <td>...</td>\n",
              "      <td>...</td>\n",
              "      <td>...</td>\n",
              "      <td>...</td>\n",
              "    </tr>\n",
              "    <tr>\n",
              "      <th>3420581</th>\n",
              "      <td>681092</td>\n",
              "      <td>206181</td>\n",
              "      <td>train</td>\n",
              "      <td>15</td>\n",
              "      <td>1</td>\n",
              "      <td>13</td>\n",
              "      <td>30.0</td>\n",
              "    </tr>\n",
              "    <tr>\n",
              "      <th>3420692</th>\n",
              "      <td>2530125</td>\n",
              "      <td>206191</td>\n",
              "      <td>train</td>\n",
              "      <td>6</td>\n",
              "      <td>0</td>\n",
              "      <td>9</td>\n",
              "      <td>30.0</td>\n",
              "    </tr>\n",
              "    <tr>\n",
              "      <th>3420786</th>\n",
              "      <td>3383615</td>\n",
              "      <td>206196</td>\n",
              "      <td>train</td>\n",
              "      <td>5</td>\n",
              "      <td>0</td>\n",
              "      <td>15</td>\n",
              "      <td>30.0</td>\n",
              "    </tr>\n",
              "    <tr>\n",
              "      <th>3420933</th>\n",
              "      <td>1716008</td>\n",
              "      <td>206205</td>\n",
              "      <td>train</td>\n",
              "      <td>4</td>\n",
              "      <td>1</td>\n",
              "      <td>16</td>\n",
              "      <td>10.0</td>\n",
              "    </tr>\n",
              "    <tr>\n",
              "      <th>3421082</th>\n",
              "      <td>272231</td>\n",
              "      <td>206209</td>\n",
              "      <td>train</td>\n",
              "      <td>14</td>\n",
              "      <td>6</td>\n",
              "      <td>14</td>\n",
              "      <td>30.0</td>\n",
              "    </tr>\n",
              "  </tbody>\n",
              "</table>\n",
              "<p>18726 rows × 7 columns</p>\n",
              "</div>"
            ],
            "text/plain": [
              "         order_id  user_id  ... order_hour_of_day  days_since_prior_order\n",
              "25        1492625        2  ...                11                    30.0\n",
              "485        698604       34  ...                13                    30.0\n",
              "623       1864787       43  ...                11                    26.0\n",
              "652       1947848       46  ...                20                    11.0\n",
              "881         13318       56  ...                 9                     6.0\n",
              "...           ...      ...  ...               ...                     ...\n",
              "3420581    681092   206181  ...                13                    30.0\n",
              "3420692   2530125   206191  ...                 9                    30.0\n",
              "3420786   3383615   206196  ...                15                    30.0\n",
              "3420933   1716008   206205  ...                16                    10.0\n",
              "3421082    272231   206209  ...                14                    30.0\n",
              "\n",
              "[18726 rows x 7 columns]"
            ]
          },
          "metadata": {
            "tags": []
          },
          "execution_count": 59
        }
      ]
    },
    {
      "cell_type": "code",
      "metadata": {
        "id": "trftSQMpuGZ0"
      },
      "source": [
        "# orders1 = orders[orders.order_id.isin(banana_order_ids)]\n",
        "# user_id.isin(orders1).value_counts()  "
      ],
      "execution_count": null,
      "outputs": []
    },
    {
      "cell_type": "markdown",
      "metadata": {
        "id": "tYJC2HSoBxCN"
      },
      "source": [
        ""
      ]
    },
    {
      "cell_type": "code",
      "metadata": {
        "id": "yUf3ko4poUUM"
      },
      "source": [
        "# Which unique user_ids bought bananas?\n",
        "# orders[orders.order_id.isin(banana_order_ids)]['user_id'].value_counts()\n"
      ],
      "execution_count": null,
      "outputs": []
    },
    {
      "cell_type": "code",
      "metadata": {
        "id": "6i5WnvmWo5ga"
      },
      "source": [
        "# What is the most common hour of the day that bananas are ordered?\n",
        "# What is the most common hour of the day for any food orders?"
      ],
      "execution_count": null,
      "outputs": []
    },
    {
      "cell_type": "code",
      "metadata": {
        "id": "KeQWbUCapOyD"
      },
      "source": [
        ""
      ],
      "execution_count": null,
      "outputs": []
    },
    {
      "cell_type": "code",
      "metadata": {
        "id": "VCB-kgNdpVU4"
      },
      "source": [
        ""
      ],
      "execution_count": null,
      "outputs": []
    },
    {
      "cell_type": "markdown",
      "metadata": {
        "id": "MBjxVTI2QDJR"
      },
      "source": [
        "## How can we get a subset of data, just for these customers?\n",
        "\n",
        "We want *all* the orders from customers who have *ever* bought the product.\n",
        "\n",
        "(And *none* of the orders from customers who have *never* bought the product.)"
      ]
    },
    {
      "cell_type": "code",
      "metadata": {
        "id": "MBweUcmoQDJS"
      },
      "source": [
        ""
      ],
      "execution_count": null,
      "outputs": []
    },
    {
      "cell_type": "code",
      "metadata": {
        "id": "Va8fRhZ1pt6U"
      },
      "source": [
        ""
      ],
      "execution_count": null,
      "outputs": []
    },
    {
      "cell_type": "code",
      "metadata": {
        "id": "yxdxy0r8qTEf"
      },
      "source": [
        ""
      ],
      "execution_count": null,
      "outputs": []
    },
    {
      "cell_type": "markdown",
      "metadata": {
        "id": "AvRMSJ9oQDJV"
      },
      "source": [
        "## What features can we engineer? We want to predict, will these customers reorder bananas on their next order?\n",
        "\n",
        "- Products per order\n",
        "- Time of day\n",
        "- Have they reordered bananas before? (Have ordered bananas >= 2 times)\n",
        "- Other fruit they buy \n",
        "- Size of orders (customers with smaller orders on average are less likely to be reordering any particular product on their next order)\n",
        "\n",
        "\n",
        "- Frequency of banana orders:\n",
        "    - % of orders \n",
        "    - Time between banana orders: Every n days on average\n",
        "    - Raw count: Total orders, how many times have you ordered bananas?\n",
        "\n",
        "- Recency of banana orders\n",
        "    - n days since you ordered banana\n",
        "\n",
        "\n"
      ]
    },
    {
      "cell_type": "code",
      "metadata": {
        "id": "5rHPFtZmQDJW"
      },
      "source": [
        "# Is there a difference in average order size in banana-containing orders vs. all orders?"
      ],
      "execution_count": null,
      "outputs": []
    },
    {
      "cell_type": "code",
      "metadata": {
        "id": "-6wnGhtTunVL",
        "outputId": "35cdcc71-b826-42b4-b441-14fbdba267ec",
        "colab": {
          "base_uri": "https://localhost:8080/",
          "height": 224
        }
      },
      "source": [
        "orders.head()"
      ],
      "execution_count": null,
      "outputs": [
        {
          "output_type": "execute_result",
          "data": {
            "text/html": [
              "<div>\n",
              "<style scoped>\n",
              "    .dataframe tbody tr th:only-of-type {\n",
              "        vertical-align: middle;\n",
              "    }\n",
              "\n",
              "    .dataframe tbody tr th {\n",
              "        vertical-align: top;\n",
              "    }\n",
              "\n",
              "    .dataframe thead th {\n",
              "        text-align: right;\n",
              "    }\n",
              "</style>\n",
              "<table border=\"1\" class=\"dataframe\">\n",
              "  <thead>\n",
              "    <tr style=\"text-align: right;\">\n",
              "      <th></th>\n",
              "      <th>order_id</th>\n",
              "      <th>user_id</th>\n",
              "      <th>eval_set</th>\n",
              "      <th>order_number</th>\n",
              "      <th>order_dow</th>\n",
              "      <th>order_hour_of_day</th>\n",
              "      <th>days_since_prior_order</th>\n",
              "    </tr>\n",
              "  </thead>\n",
              "  <tbody>\n",
              "    <tr>\n",
              "      <th>0</th>\n",
              "      <td>2539329</td>\n",
              "      <td>1</td>\n",
              "      <td>prior</td>\n",
              "      <td>1</td>\n",
              "      <td>2</td>\n",
              "      <td>8</td>\n",
              "      <td>NaN</td>\n",
              "    </tr>\n",
              "    <tr>\n",
              "      <th>1</th>\n",
              "      <td>2398795</td>\n",
              "      <td>1</td>\n",
              "      <td>prior</td>\n",
              "      <td>2</td>\n",
              "      <td>3</td>\n",
              "      <td>7</td>\n",
              "      <td>15.0</td>\n",
              "    </tr>\n",
              "    <tr>\n",
              "      <th>2</th>\n",
              "      <td>473747</td>\n",
              "      <td>1</td>\n",
              "      <td>prior</td>\n",
              "      <td>3</td>\n",
              "      <td>3</td>\n",
              "      <td>12</td>\n",
              "      <td>21.0</td>\n",
              "    </tr>\n",
              "    <tr>\n",
              "      <th>3</th>\n",
              "      <td>2254736</td>\n",
              "      <td>1</td>\n",
              "      <td>prior</td>\n",
              "      <td>4</td>\n",
              "      <td>4</td>\n",
              "      <td>7</td>\n",
              "      <td>29.0</td>\n",
              "    </tr>\n",
              "    <tr>\n",
              "      <th>4</th>\n",
              "      <td>431534</td>\n",
              "      <td>1</td>\n",
              "      <td>prior</td>\n",
              "      <td>5</td>\n",
              "      <td>4</td>\n",
              "      <td>15</td>\n",
              "      <td>28.0</td>\n",
              "    </tr>\n",
              "  </tbody>\n",
              "</table>\n",
              "</div>"
            ],
            "text/plain": [
              "   order_id  user_id  ... order_hour_of_day  days_since_prior_order\n",
              "0   2539329        1  ...                 8                     NaN\n",
              "1   2398795        1  ...                 7                    15.0\n",
              "2    473747        1  ...                12                    21.0\n",
              "3   2254736        1  ...                 7                    29.0\n",
              "4    431534        1  ...                15                    28.0\n",
              "\n",
              "[5 rows x 7 columns]"
            ]
          },
          "metadata": {
            "tags": []
          },
          "execution_count": 63
        }
      ]
    },
    {
      "cell_type": "code",
      "metadata": {
        "id": "XDNFPsDG4r1a",
        "outputId": "a5adba76-8bcb-4fd5-8b9d-e611db0dc262",
        "colab": {
          "base_uri": "https://localhost:8080/",
          "height": 221
        }
      },
      "source": [
        " banana_order_ids"
      ],
      "execution_count": null,
      "outputs": [
        {
          "output_type": "execute_result",
          "data": {
            "text/plain": [
              "129688        226\n",
              "129689        473\n",
              "129690        878\n",
              "129691       1042\n",
              "129692       1139\n",
              "           ...   \n",
              "148409    3419531\n",
              "148410    3419542\n",
              "148411    3419629\n",
              "148412    3420088\n",
              "148413    3420996\n",
              "Name: order_id, Length: 18726, dtype: int64"
            ]
          },
          "metadata": {
            "tags": []
          },
          "execution_count": 64
        }
      ]
    },
    {
      "cell_type": "code",
      "metadata": {
        "id": "xYHEPkA19ecB"
      },
      "source": [
        ""
      ],
      "execution_count": null,
      "outputs": []
    },
    {
      "cell_type": "code",
      "metadata": {
        "id": "JFzagLve4MUM",
        "outputId": "0ee16ed7-3adc-4ce0-92a8-9d08decaf29c",
        "colab": {
          "base_uri": "https://localhost:8080/",
          "height": 34
        }
      },
      "source": [
        "# Group by order_id, counts unique product (one unique per row in train dataframe), and prints out count of unique rows (products) per order\n",
        "product_order_counts = train.groupby(['order_id']).count()['product_id']\n",
        "product_order_counts.mean()\n"
      ],
      "execution_count": null,
      "outputs": [
        {
          "output_type": "execute_result",
          "data": {
            "text/plain": [
              "10.552759338155157"
            ]
          },
          "metadata": {
            "tags": []
          },
          "execution_count": 65
        }
      ]
    },
    {
      "cell_type": "code",
      "metadata": {
        "id": "7EgFf_r3khZB",
        "outputId": "cc7d4ade-9196-495b-e143-abb715423457",
        "colab": {
          "base_uri": "https://localhost:8080/",
          "height": 351
        }
      },
      "source": [
        "import seaborn as sns\n",
        "sns.distplot(product_order_counts)"
      ],
      "execution_count": null,
      "outputs": [
        {
          "output_type": "stream",
          "text": [
            "/usr/local/lib/python3.6/dist-packages/statsmodels/tools/_testing.py:19: FutureWarning: pandas.util.testing is deprecated. Use the functions in the public API at pandas.testing instead.\n",
            "  import pandas.util.testing as tm\n"
          ],
          "name": "stderr"
        },
        {
          "output_type": "execute_result",
          "data": {
            "text/plain": [
              "<matplotlib.axes._subplots.AxesSubplot at 0x7f03ea3b72e8>"
            ]
          },
          "metadata": {
            "tags": []
          },
          "execution_count": 66
        },
        {
          "output_type": "display_data",
          "data": {
            "image/png": "[encoded data removed]",
            "text/plain": [
              "<Figure size 432x288 with 1 Axes>"
            ]
          },
          "metadata": {
            "tags": [],
            "needs_background": "light"
          }
        }
      ]
    },
    {
      "cell_type": "code",
      "metadata": {
        "id": "DNxvZcje9Cwi",
        "outputId": "b786018b-02b8-49b0-fc8b-ff63d8b6b425",
        "colab": {
          "base_uri": "https://localhost:8080/",
          "height": 34
        }
      },
      "source": [
        "banana_order_counts = train[train.order_id.isin(banana_order_ids)].groupby(['order_id']).count()['product_id']\n",
        "banana_order_counts.mean()\n"
      ],
      "execution_count": null,
      "outputs": [
        {
          "output_type": "execute_result",
          "data": {
            "text/plain": [
              "14.977517889565311"
            ]
          },
          "metadata": {
            "tags": []
          },
          "execution_count": 67
        }
      ]
    },
    {
      "cell_type": "code",
      "metadata": {
        "id": "QziZYopc5a6y"
      },
      "source": [
        ""
      ],
      "execution_count": null,
      "outputs": []
    },
    {
      "cell_type": "markdown",
      "metadata": {
        "id": "j1K67TzBR0bp"
      },
      "source": [
        "## Challenge\n",
        "\n",
        "**Continue to clean and explore your data.** Can you **engineer features** to help predict your target? For the evaluation metric you chose, what score would you get just by guessing? Can you **make a fast, first model** that beats guessing?\n",
        "\n",
        "We recommend that you use your portfolio project dataset for all assignments this sprint. But if you aren't ready yet, or you want more practice, then use the New York City property sales dataset today. Follow the instructions in the assignment notebook. [Here's a video walkthrough](https://youtu.be/pPWFw8UtBVg?t=584) you can refer to if you get stuck or want hints!"
      ]
    }
  ]
}