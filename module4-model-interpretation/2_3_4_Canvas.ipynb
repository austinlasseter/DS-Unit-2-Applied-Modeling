{
  "nbformat": 4,
  "nbformat_minor": 0,
  "metadata": {
    "colab": {
      "name": "2-3-4-Canvas.ipynb",
      "provenance": [],
      "authorship_tag": "ABX9TyOJOPOErvc90MhNEyoTCtr0",
      "include_colab_link": true
    },
    "kernelspec": {
      "name": "python3",
      "display_name": "Python 3"
    }
  },
  "cells": [
    {
      "cell_type": "markdown",
      "metadata": {
        "id": "view-in-github",
        "colab_type": "text"
      },
      "source": [
        "<a href=\"https://colab.research.google.com/github/austinlasseter/DS-Unit-2-Applied-Modeling/blob/master/module4-model-interpretation/2_3_4_Canvas.ipynb\" target=\"_parent\"><img src=\"https://colab.research.google.com/assets/colab-badge.svg\" alt=\"Open In Colab\"/></a>"
      ]
    },
    {
      "cell_type": "markdown",
      "metadata": {
        "id": "lIVjc4B-e62K"
      },
      "source": [
        "# 1. visualize and interpret partial dependence plots"
      ]
    },
    {
      "cell_type": "markdown",
      "metadata": {
        "id": "i-_Kk9ZOeT1z"
      },
      "source": [
        "## Overview\n",
        "In this sprint, and the unit overall, we have been focusing on the feature importance as determined by simply ranking them. We've looked at lists of features and their contribution to the model. But sometimes, we want more information about how the model is working and how a specific feature(s) affects the model predictions. One of the main way to take a look inside a \"black box\" model is to utilize partial dependence plots.\n",
        "\n",
        "A partial dependence plot can be used to show how a model prediction partially depends on values of the input variables of interest (the input feature). For example, in the data we'll explore below, we can fit a model to predict wine quality. Once we have the model fit, we can isolate a particular feature and visualize how the model prediction depends on that feature over its range of values. The plots below will show how we visualize the model prediction's dependence on alcohol content.\n",
        "\n",
        "## Follow Along\n",
        "We're back to the wine quality data set. In this example, we're going to change our target to having only two classes (bad/good): 0 for quality less than or equal to 5 and 1 for above five. Rethinking this problem as a binary classification will make it easier to visualize our partial dependence plots because the model itself will be simpler.\n",
        "\n",
        "After loading in the data, we'll fir a simple decision tree classifier model. We're not going to split the data into training and testing sets because we're not looking at the accuracy or other evaluation metrics right now. So we'll use all of the data to train the model and to create the partial dependence plots."
      ]
    },
    {
      "cell_type": "code",
      "metadata": {
        "id": "bMX5mS8FeWFs"
      },
      "source": [
        "# Load the dataset\n",
        "import pandas as pd\n",
        "wine = pd.read_csv('winequality-red.csv', sep=';')\n",
        "wine.head()"
      ],
      "execution_count": null,
      "outputs": []
    },
    {
      "cell_type": "code",
      "metadata": {
        "id": "LDmq6rZPebMU"
      },
      "source": [
        "# Set the features list and target variable \n",
        "target = 'quality'\n",
        "X = wine.drop(target, axis=1)\n",
        "\n",
        "# Create the target array\n",
        "y = wine['quality']\n",
        "\n",
        "# Map the target to a binary class at quality = 5\n",
        "y = y.apply(lambda x: 0 if x <= 5 else 1)\n",
        "\n",
        "# Instantiate the classifier\n",
        "from sklearn.tree import DecisionTreeClassifier\n",
        "clf = DecisionTreeClassifier(random_state=42)\n",
        "\n",
        "wine_model = clf.fit(X, y)"
      ],
      "execution_count": null,
      "outputs": []
    },
    {
      "cell_type": "markdown",
      "metadata": {
        "id": "L8uXi_JZedcH"
      },
      "source": [
        "## Calculating the Partial Dependence\n",
        "We always calculate our partial dependence values after we have fit a model. Using the plot_partial_dependence() module, we specify the features that we would like to visualize. In this case, the alcohol and chlorides are the two features we're using. Usually, you would have analyzed the feature importances and then selected the most important features. In this case, we're using a slightly different red wine data set than what is available from the scikit-learn datasets module, but alcohol is one of the top features in importance."
      ]
    },
    {
      "cell_type": "code",
      "metadata": {
        "id": "0icugARyeecn",
        "outputId": "d8ab7c37-f9f4-43fc-e102-ada4d0ada1fc",
        "colab": {
          "base_uri": "https://localhost:8080/",
          "height": 484
        }
      },
      "source": [
        "from sklearn.inspection import plot_partial_dependence\n",
        "import matplotlib.pyplot as plt\n",
        "\n",
        "fig, ax = plt.subplots(1,1, figsize=(12,4))\n",
        "plot_partial_dependence(wine_model, feature_names=X.columns, \n",
        "                        features=['alcohol','chlorides'], \n",
        "                        X=X, grid_resolution=50, ax=ax);\n",
        "\n",
        "ax.set_title('Wine: Partial Dependence')\n",
        "\n",
        "#plt.show()\n",
        "\n",
        "plt.clf()"
      ],
      "execution_count": 1,
      "outputs": [
        {
          "output_type": "error",
          "ename": "NameError",
          "evalue": "ignored",
          "traceback": [
            "\u001b[0;31m---------------------------------------------------------------------------\u001b[0m",
            "\u001b[0;31mNameError\u001b[0m                                 Traceback (most recent call last)",
            "\u001b[0;32m<ipython-input-1-3780e93d2850>\u001b[0m in \u001b[0;36m<module>\u001b[0;34m()\u001b[0m\n\u001b[1;32m      3\u001b[0m \u001b[0;34m\u001b[0m\u001b[0m\n\u001b[1;32m      4\u001b[0m \u001b[0mfig\u001b[0m\u001b[0;34m,\u001b[0m \u001b[0max\u001b[0m \u001b[0;34m=\u001b[0m \u001b[0mplt\u001b[0m\u001b[0;34m.\u001b[0m\u001b[0msubplots\u001b[0m\u001b[0;34m(\u001b[0m\u001b[0;36m1\u001b[0m\u001b[0;34m,\u001b[0m\u001b[0;36m1\u001b[0m\u001b[0;34m,\u001b[0m \u001b[0mfigsize\u001b[0m\u001b[0;34m=\u001b[0m\u001b[0;34m(\u001b[0m\u001b[0;36m12\u001b[0m\u001b[0;34m,\u001b[0m\u001b[0;36m4\u001b[0m\u001b[0;34m)\u001b[0m\u001b[0;34m)\u001b[0m\u001b[0;34m\u001b[0m\u001b[0;34m\u001b[0m\u001b[0m\n\u001b[0;32m----> 5\u001b[0;31m plot_partial_dependence(wine_model, feature_names=X.columns, \n\u001b[0m\u001b[1;32m      6\u001b[0m                         \u001b[0mfeatures\u001b[0m\u001b[0;34m=\u001b[0m\u001b[0;34m[\u001b[0m\u001b[0;34m'alcohol'\u001b[0m\u001b[0;34m,\u001b[0m\u001b[0;34m'chlorides'\u001b[0m\u001b[0;34m]\u001b[0m\u001b[0;34m,\u001b[0m\u001b[0;34m\u001b[0m\u001b[0;34m\u001b[0m\u001b[0m\n\u001b[1;32m      7\u001b[0m                         X=X, grid_resolution=50, ax=ax);\n",
            "\u001b[0;31mNameError\u001b[0m: name 'wine_model' is not defined"
          ]
        },
        {
          "output_type": "display_data",
          "data": {
            "image/png": "[encoded data removed]",
            "text/plain": [
              "<Figure size 864x288 with 1 Axes>"
            ]
          },
          "metadata": {
            "tags": [],
            "needs_background": "light"
          }
        }
      ]
    },
    {
      "cell_type": "markdown",
      "metadata": {
        "id": "IrWSrrQ3eild"
      },
      "source": [
        "On the left plot, we can see as the percentage of alcohol increases, the model more strongly predicts higher quality. On the right, the amount of chlorides in the wine doesn't seem to affect the prediction as much as the alcohol content feature.\n",
        "\n",
        "Now, we're going to use a different library to visualize the partial dependence for one feature. This plot is calculating the same dependence of the feature but is plotting all of the predictions (shaded area) as well as the average (solid line)."
      ]
    },
    {
      "cell_type": "code",
      "metadata": {
        "id": "9LFm51XXegSl"
      },
      "source": [
        "from pdpbox.pdp import pdp_isolate, pdp_plot\n",
        "\n",
        "# Create the plot for a single feature isolated\n",
        "\n",
        "isolated = pdp_isolate(\n",
        "    model= wine_model,\n",
        "    dataset=X,\n",
        "    model_features=X.columns,\n",
        "    feature='alcohol'\n",
        ")\n",
        "\n",
        "pdp_plot(isolated, feature_name='Alcohol');\n",
        "\n",
        "plt.clf()"
      ],
      "execution_count": null,
      "outputs": []
    },
    {
      "cell_type": "markdown",
      "metadata": {
        "id": "k5teSCgKeodO"
      },
      "source": [
        "# 2. explain individual predictions with shapley value plots"
      ]
    },
    {
      "cell_type": "markdown",
      "metadata": {
        "id": "5ai0qxT-ethH"
      },
      "source": [
        "## Overview\n",
        "In this objective, we'll dive a little deeper into how individual features contribute to making a prediction. A quantity called a Shapley value borrows from game theory concepts to try to explain the difference between the prediction of an individual observation compared to the average prediction from all the observations (instances).\n",
        "\n",
        "One way to consider this problem is to think of the features in the model working together to make a prediction. For example, using the wine data set from the previous objective, we can consider the alcohol content, the sulphates, and the pH. For one observation (row of the DataFrame), they work together to make a prediction. The rest of the rows all work together to make the average prediction. The Shapley values look at each feature's contribution to the single row prediction and explain exactly how it make it different from the average prediction.\n",
        "\n",
        "Let' work through an example using the SHAP library which stands for SHapley Additive exPlanations."
      ]
    },
    {
      "cell_type": "code",
      "metadata": {
        "id": "LaKdzsdFerMh"
      },
      "source": [
        "# Load the dataset\n",
        "import pandas as pd\n",
        "wine = pd.read_csv('winequality-red.csv', sep=';')\n",
        "wine.head()\n",
        "\n",
        "# Set the features list and target variable \n",
        "target = 'quality'\n",
        "X = wine.drop(target, axis=1)\n",
        "\n",
        "# Create the target array\n",
        "y = wine['quality']\n",
        "\n",
        "# Map the target to a binary class at quality = 5\n",
        "y = y.apply(lambda x: 0 if x <= 5 else 1)"
      ],
      "execution_count": null,
      "outputs": []
    },
    {
      "cell_type": "markdown",
      "metadata": {
        "id": "QSoRoPrJexdh"
      },
      "source": [
        "To calculate the Shapley values, we'll be fitting a xgboost classifier model to the data. The TreeExplainer() is used to explain the output of ensemble tree models. From the explainer values, we calculate the Shapley values and then visualize the results for a single observation (instance)."
      ]
    },
    {
      "cell_type": "code",
      "metadata": {
        "id": "DM9YH-v9exzJ"
      },
      "source": [
        "# Import shap\n",
        "import shap\n",
        "\n",
        "# Instantiate and fit the model\n",
        "from xgboost import XGBClassifier\n",
        "xgb = XGBClassifier(random_state=42)\n",
        "wine_model = xgb.fit(X, y)\n",
        "mybooster = wine_model.get_booster()\n",
        "\n",
        "# The following code correction for an encoding error\n",
        "model_bytearray = mybooster.save_raw()[4:]\n",
        "def myfun(self=None):\n",
        "    return model_bytearray\n",
        "mybooster.save_raw = myfun\n",
        "\n",
        "# Shap explainer initilization\n",
        "shap_ex = shap.TreeExplainer(mybooster)"
      ],
      "execution_count": null,
      "outputs": []
    },
    {
      "cell_type": "code",
      "metadata": {
        "id": "kJEtzrpYe0-k"
      },
      "source": [
        "\n",
        "# Calculate the shapley values\n",
        "shap_values = shap_ex.shap_values(X)\n",
        "\n",
        "# Initialize the plot\n",
        "shap.initjs()\n",
        "\n",
        "# Plot the values for the 25th row of the \n",
        "shap.force_plot(shap_ex.expected_value, shap_values[25,:], X.iloc[25,:])\n",
        "\n",
        "plt.clf()\n"
      ],
      "execution_count": null,
      "outputs": []
    },
    {
      "cell_type": "markdown",
      "metadata": {
        "id": "3epula5me2ow"
      },
      "source": [
        "We can interpret the above plot in the following way: the value for volatile acidity was more important in predicting wine quality. The alcohol content and residual sugar (and others) were less important in predicting the wine quality.\n",
        "\n"
      ]
    },
    {
      "cell_type": "code",
      "metadata": {
        "id": "nZXkJiX6e25Y"
      },
      "source": [
        ""
      ],
      "execution_count": null,
      "outputs": []
    }
  ]
}